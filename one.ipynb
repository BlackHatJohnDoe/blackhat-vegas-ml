{
 "cells": [
  {
   "cell_type": "code",
   "execution_count": null,
   "metadata": {
    "collapsed": true
   },
   "outputs": [],
   "source": []
  },
  {
   "cell_type": "markdown",
   "metadata": {},
   "source": [
    "# Sinan Ozdemir\n",
    "\n",
    "### Founder/CTO of [Kylie.ai](https://www.kylie.ai)\n",
    "\n",
    "I'm Data Scientist and Machine Learning expert from San Francisco with a Masters in Theoretical Mathematics from Johns Hopkins University where I served as a lecturer of Mathematics, Statistics and Computer Science for sometime. I am the author of the book \"[Principles of Data Science](https://www.amazon.com/Principles-Data-Science-Sinan-Ozdemir/dp/1785887912)\" and the course \"Data Science for Infosec Professionals\" for Pentester Academy (2017 release).\n",
    "\n"
   ]
  },
  {
   "cell_type": "markdown",
   "metadata": {},
   "source": [
    "[Intro to Data Science](slides/intro_to_data_science.pdf)"
   ]
  },
  {
   "cell_type": "code",
   "execution_count": 1,
   "metadata": {
    "collapsed": true
   },
   "outputs": [],
   "source": [
    "# imports\n",
    "import pandas as pd\n",
    "import numpy as np\n",
    "import matplotlib.pyplot as plt\n",
    "%matplotlib inline"
   ]
  },
  {
   "cell_type": "code",
   "execution_count": 2,
   "metadata": {
    "collapsed": true
   },
   "outputs": [],
   "source": [
    "phishing = pd.read_csv(\"data/phishing_website.csv\")  # use pandas to read in a dataset from a csv"
   ]
  },
  {
   "cell_type": "code",
   "execution_count": 3,
   "metadata": {},
   "outputs": [
    {
     "data": {
      "text/html": [
       "<div>\n",
       "<style>\n",
       "    .dataframe thead tr:only-child th {\n",
       "        text-align: right;\n",
       "    }\n",
       "\n",
       "    .dataframe thead th {\n",
       "        text-align: left;\n",
       "    }\n",
       "\n",
       "    .dataframe tbody tr th {\n",
       "        vertical-align: top;\n",
       "    }\n",
       "</style>\n",
       "<table border=\"1\" class=\"dataframe\">\n",
       "  <thead>\n",
       "    <tr style=\"text-align: right;\">\n",
       "      <th></th>\n",
       "      <th>having_IP_Address</th>\n",
       "      <th>URL_Length</th>\n",
       "      <th>Shortining_Service</th>\n",
       "      <th>having_At_Symbol</th>\n",
       "      <th>double_slash_redirecting</th>\n",
       "      <th>Prefix_Suffix</th>\n",
       "      <th>having_Sub_Domain</th>\n",
       "      <th>SSLfinal_State</th>\n",
       "      <th>Domain_registeration_length</th>\n",
       "      <th>Favicon</th>\n",
       "      <th>...</th>\n",
       "      <th>popUpWidnow</th>\n",
       "      <th>Iframe</th>\n",
       "      <th>age_of_domain</th>\n",
       "      <th>DNSRecord</th>\n",
       "      <th>web_traffic</th>\n",
       "      <th>Page_Rank</th>\n",
       "      <th>Google_Index</th>\n",
       "      <th>Links_pointing_to_page</th>\n",
       "      <th>Statistical_report</th>\n",
       "      <th>Result</th>\n",
       "    </tr>\n",
       "  </thead>\n",
       "  <tbody>\n",
       "    <tr>\n",
       "      <th>0</th>\n",
       "      <td>-1</td>\n",
       "      <td>1</td>\n",
       "      <td>1</td>\n",
       "      <td>1</td>\n",
       "      <td>-1</td>\n",
       "      <td>-1</td>\n",
       "      <td>-1</td>\n",
       "      <td>-1</td>\n",
       "      <td>-1</td>\n",
       "      <td>1</td>\n",
       "      <td>...</td>\n",
       "      <td>1</td>\n",
       "      <td>1</td>\n",
       "      <td>-1</td>\n",
       "      <td>-1</td>\n",
       "      <td>-1</td>\n",
       "      <td>-1</td>\n",
       "      <td>1</td>\n",
       "      <td>1</td>\n",
       "      <td>-1</td>\n",
       "      <td>-1</td>\n",
       "    </tr>\n",
       "    <tr>\n",
       "      <th>1</th>\n",
       "      <td>1</td>\n",
       "      <td>1</td>\n",
       "      <td>1</td>\n",
       "      <td>1</td>\n",
       "      <td>1</td>\n",
       "      <td>-1</td>\n",
       "      <td>0</td>\n",
       "      <td>1</td>\n",
       "      <td>-1</td>\n",
       "      <td>1</td>\n",
       "      <td>...</td>\n",
       "      <td>1</td>\n",
       "      <td>1</td>\n",
       "      <td>-1</td>\n",
       "      <td>-1</td>\n",
       "      <td>0</td>\n",
       "      <td>-1</td>\n",
       "      <td>1</td>\n",
       "      <td>1</td>\n",
       "      <td>1</td>\n",
       "      <td>-1</td>\n",
       "    </tr>\n",
       "    <tr>\n",
       "      <th>2</th>\n",
       "      <td>1</td>\n",
       "      <td>0</td>\n",
       "      <td>1</td>\n",
       "      <td>1</td>\n",
       "      <td>1</td>\n",
       "      <td>-1</td>\n",
       "      <td>-1</td>\n",
       "      <td>-1</td>\n",
       "      <td>-1</td>\n",
       "      <td>1</td>\n",
       "      <td>...</td>\n",
       "      <td>1</td>\n",
       "      <td>1</td>\n",
       "      <td>1</td>\n",
       "      <td>-1</td>\n",
       "      <td>1</td>\n",
       "      <td>-1</td>\n",
       "      <td>1</td>\n",
       "      <td>0</td>\n",
       "      <td>-1</td>\n",
       "      <td>-1</td>\n",
       "    </tr>\n",
       "    <tr>\n",
       "      <th>3</th>\n",
       "      <td>1</td>\n",
       "      <td>0</td>\n",
       "      <td>1</td>\n",
       "      <td>1</td>\n",
       "      <td>1</td>\n",
       "      <td>-1</td>\n",
       "      <td>-1</td>\n",
       "      <td>-1</td>\n",
       "      <td>1</td>\n",
       "      <td>1</td>\n",
       "      <td>...</td>\n",
       "      <td>1</td>\n",
       "      <td>1</td>\n",
       "      <td>-1</td>\n",
       "      <td>-1</td>\n",
       "      <td>1</td>\n",
       "      <td>-1</td>\n",
       "      <td>1</td>\n",
       "      <td>-1</td>\n",
       "      <td>1</td>\n",
       "      <td>-1</td>\n",
       "    </tr>\n",
       "    <tr>\n",
       "      <th>4</th>\n",
       "      <td>1</td>\n",
       "      <td>0</td>\n",
       "      <td>-1</td>\n",
       "      <td>1</td>\n",
       "      <td>1</td>\n",
       "      <td>-1</td>\n",
       "      <td>1</td>\n",
       "      <td>1</td>\n",
       "      <td>-1</td>\n",
       "      <td>1</td>\n",
       "      <td>...</td>\n",
       "      <td>-1</td>\n",
       "      <td>1</td>\n",
       "      <td>-1</td>\n",
       "      <td>-1</td>\n",
       "      <td>0</td>\n",
       "      <td>-1</td>\n",
       "      <td>1</td>\n",
       "      <td>1</td>\n",
       "      <td>1</td>\n",
       "      <td>1</td>\n",
       "    </tr>\n",
       "  </tbody>\n",
       "</table>\n",
       "<p>5 rows × 31 columns</p>\n",
       "</div>"
      ],
      "text/plain": [
       "   having_IP_Address  URL_Length  Shortining_Service  having_At_Symbol  \\\n",
       "0                 -1           1                   1                 1   \n",
       "1                  1           1                   1                 1   \n",
       "2                  1           0                   1                 1   \n",
       "3                  1           0                   1                 1   \n",
       "4                  1           0                  -1                 1   \n",
       "\n",
       "   double_slash_redirecting  Prefix_Suffix  having_Sub_Domain  SSLfinal_State  \\\n",
       "0                        -1             -1                 -1              -1   \n",
       "1                         1             -1                  0               1   \n",
       "2                         1             -1                 -1              -1   \n",
       "3                         1             -1                 -1              -1   \n",
       "4                         1             -1                  1               1   \n",
       "\n",
       "   Domain_registeration_length  Favicon   ...    popUpWidnow  Iframe  \\\n",
       "0                           -1        1   ...              1       1   \n",
       "1                           -1        1   ...              1       1   \n",
       "2                           -1        1   ...              1       1   \n",
       "3                            1        1   ...              1       1   \n",
       "4                           -1        1   ...             -1       1   \n",
       "\n",
       "   age_of_domain  DNSRecord  web_traffic  Page_Rank  Google_Index  \\\n",
       "0             -1         -1           -1         -1             1   \n",
       "1             -1         -1            0         -1             1   \n",
       "2              1         -1            1         -1             1   \n",
       "3             -1         -1            1         -1             1   \n",
       "4             -1         -1            0         -1             1   \n",
       "\n",
       "   Links_pointing_to_page  Statistical_report  Result  \n",
       "0                       1                  -1      -1  \n",
       "1                       1                   1      -1  \n",
       "2                       0                  -1      -1  \n",
       "3                      -1                   1      -1  \n",
       "4                       1                   1       1  \n",
       "\n",
       "[5 rows x 31 columns]"
      ]
     },
     "execution_count": 3,
     "metadata": {},
     "output_type": "execute_result"
    }
   ],
   "source": [
    "phishing.head()  # look at the first five rows"
   ]
  },
  {
   "cell_type": "code",
   "execution_count": 4,
   "metadata": {},
   "outputs": [
    {
     "data": {
      "text/plain": [
       "(11055, 31)"
      ]
     },
     "execution_count": 4,
     "metadata": {},
     "output_type": "execute_result"
    }
   ],
   "source": [
    "phishing.shape\n",
    "#  11,055 rows and 31 columns"
   ]
  },
  {
   "cell_type": "code",
   "execution_count": 5,
   "metadata": {},
   "outputs": [
    {
     "data": {
      "text/plain": [
       "Index([u'having_IP_Address', u'URL_Length', u'Shortining_Service',\n",
       "       u'having_At_Symbol', u'double_slash_redirecting', u'Prefix_Suffix',\n",
       "       u'having_Sub_Domain', u'SSLfinal_State', u'Domain_registeration_length',\n",
       "       u'Favicon', u'port', u'HTTPS_token', u'Request_URL', u'URL_of_Anchor',\n",
       "       u'Links_in_tags', u'SFH', u'Submitting_to_email', u'Abnormal_URL',\n",
       "       u'Redirect', u'on_mouseover', u'RightClick', u'popUpWidnow', u'Iframe',\n",
       "       u'age_of_domain', u'DNSRecord', u'web_traffic', u'Page_Rank',\n",
       "       u'Google_Index', u'Links_pointing_to_page', u'Statistical_report',\n",
       "       u'Result'],\n",
       "      dtype='object')"
      ]
     },
     "execution_count": 5,
     "metadata": {},
     "output_type": "execute_result"
    }
   ],
   "source": [
    "phishing.columns  # list the column names"
   ]
  },
  {
   "cell_type": "markdown",
   "metadata": {},
   "source": [
    "- Attribute 1 (having_IP_Address)\t:  If an IP address is used as an alternative of the domain\n",
    "- Attribute 2 (URL_Length)\t\t: Use of long URL\n",
    "- Attribute 3 (Shortining_Service)\t: Use of URL shortening service\n",
    "- Attribute 4 (having_At_Symbol)\t: Use of @\n",
    "- Attribute 5 (double_slash_redirecting)\t: Use of //\n",
    "- Attribute 6 (Prefix_Suffix)\t\t: Use of - \n",
    "- Attribute 7 (having_Sub_Domain)\t: Use of multiple sub domains i.e http://www.hud.ac.uk/students\n",
    "- Attribute 8 (SSLfinal_State)\t\t:  Use of HTTPS\n",
    "- Attribute 9 (Domain_registeration_length)\t:  Registered domain length \n",
    "- Attribute 10 (Favicon)\t\t\t: Use of graphic image\n",
    "- Attribute 11 (port)\t\t\t:  Usage of port 443 to bypass firewall and other blockers.\n",
    "- Attribute 12 (HTTPS_token)\t\t: Usage of HTTPS as a token i.e http://https-www-paypal-it-webapps-mpp-home.soft-hair.com/\n",
    "- Attribute 13 (Request_URL)\t\t: Copy content from an original website i.e video, image etc..\n",
    "- Attribute 14 (URL_of_Anchor)\t: If anchor tag using different domain url\n",
    "- Attribute 15 (Links_in_tags)\t\t: If links tag are using other domain links. i.e script, meta etc.\n",
    "- Attribute 16 (SFH)\t\t\t: After submitting a page we receive about:blank\n",
    "- Attribute 17 (Submitting_to_email)\t: If informations are submitted to email\n",
    "- Attribute 18 (Abnormal_URL)\t\t: If the hostname is not include\n",
    "- Attribute 19 (Redirect)\t\t\t: If webpage redirecting to other webpage\n",
    "- Attribute 20 (on_mouseover)\t\t: If onMouseOver popup a fake url\n",
    "- Attribute 21 (RightClick)\t\t: If onMouseOver for blocking right click.\n",
    "- Attribute 22 (popUpWidnow)\t\t: If popup window asks for personal details\n",
    "- Attribute 23 (Iframe)\t\t\t: If iframe embed with an external webpage\n",
    "- Attribute 24 (age_of_domain)\t\t: If age of domain < 6\n",
    "- Attribute 25 (DNSRecord)\t\t: If DNS record not found\n",
    "- Attribute 26 (web_traffic)\t\t: If web traffic is low and not found in Alexa rank in top 100000\n",
    "- Attribute 27 (Page_Rank)\t\t: If page is without rank\n",
    "- Attribute 28 (Google_Index)\t\t:If not found in Google index\n",
    "- Attribute 29 (Links_pointing_to_page):If link is pointing to a another link\n",
    "- Attribute 30 (Statistical_report)\t:If webpage status reports are not good\n",
    "- Attribute 31 (Result)\t\t\t: \n"
   ]
  },
  {
   "cell_type": "code",
   "execution_count": 6,
   "metadata": {
    "collapsed": true
   },
   "outputs": [],
   "source": [
    "# Exploratory Data Analysis"
   ]
  },
  {
   "cell_type": "code",
   "execution_count": null,
   "metadata": {
    "collapsed": true
   },
   "outputs": [],
   "source": []
  },
  {
   "cell_type": "code",
   "execution_count": 7,
   "metadata": {
    "collapsed": true
   },
   "outputs": [],
   "source": [
    "# When we do a filter on a DataFrame, the output is another DataFrame"
   ]
  },
  {
   "cell_type": "code",
   "execution_count": 8,
   "metadata": {},
   "outputs": [
    {
     "data": {
      "text/html": [
       "<div>\n",
       "<style>\n",
       "    .dataframe thead tr:only-child th {\n",
       "        text-align: right;\n",
       "    }\n",
       "\n",
       "    .dataframe thead th {\n",
       "        text-align: left;\n",
       "    }\n",
       "\n",
       "    .dataframe tbody tr th {\n",
       "        vertical-align: top;\n",
       "    }\n",
       "</style>\n",
       "<table border=\"1\" class=\"dataframe\">\n",
       "  <thead>\n",
       "    <tr style=\"text-align: right;\">\n",
       "      <th></th>\n",
       "      <th>having_IP_Address</th>\n",
       "      <th>URL_Length</th>\n",
       "      <th>Shortining_Service</th>\n",
       "      <th>having_At_Symbol</th>\n",
       "      <th>double_slash_redirecting</th>\n",
       "      <th>Prefix_Suffix</th>\n",
       "      <th>having_Sub_Domain</th>\n",
       "      <th>SSLfinal_State</th>\n",
       "      <th>Domain_registeration_length</th>\n",
       "      <th>Favicon</th>\n",
       "      <th>...</th>\n",
       "      <th>popUpWidnow</th>\n",
       "      <th>Iframe</th>\n",
       "      <th>age_of_domain</th>\n",
       "      <th>DNSRecord</th>\n",
       "      <th>web_traffic</th>\n",
       "      <th>Page_Rank</th>\n",
       "      <th>Google_Index</th>\n",
       "      <th>Links_pointing_to_page</th>\n",
       "      <th>Statistical_report</th>\n",
       "      <th>Result</th>\n",
       "    </tr>\n",
       "  </thead>\n",
       "  <tbody>\n",
       "    <tr>\n",
       "      <th>4</th>\n",
       "      <td>1</td>\n",
       "      <td>0</td>\n",
       "      <td>-1</td>\n",
       "      <td>1</td>\n",
       "      <td>1</td>\n",
       "      <td>-1</td>\n",
       "      <td>1</td>\n",
       "      <td>1</td>\n",
       "      <td>-1</td>\n",
       "      <td>1</td>\n",
       "      <td>...</td>\n",
       "      <td>-1</td>\n",
       "      <td>1</td>\n",
       "      <td>-1</td>\n",
       "      <td>-1</td>\n",
       "      <td>0</td>\n",
       "      <td>-1</td>\n",
       "      <td>1</td>\n",
       "      <td>1</td>\n",
       "      <td>1</td>\n",
       "      <td>1</td>\n",
       "    </tr>\n",
       "    <tr>\n",
       "      <th>5</th>\n",
       "      <td>-1</td>\n",
       "      <td>0</td>\n",
       "      <td>-1</td>\n",
       "      <td>1</td>\n",
       "      <td>-1</td>\n",
       "      <td>-1</td>\n",
       "      <td>1</td>\n",
       "      <td>1</td>\n",
       "      <td>-1</td>\n",
       "      <td>1</td>\n",
       "      <td>...</td>\n",
       "      <td>1</td>\n",
       "      <td>1</td>\n",
       "      <td>1</td>\n",
       "      <td>1</td>\n",
       "      <td>1</td>\n",
       "      <td>-1</td>\n",
       "      <td>1</td>\n",
       "      <td>-1</td>\n",
       "      <td>-1</td>\n",
       "      <td>1</td>\n",
       "    </tr>\n",
       "    <tr>\n",
       "      <th>8</th>\n",
       "      <td>1</td>\n",
       "      <td>0</td>\n",
       "      <td>-1</td>\n",
       "      <td>1</td>\n",
       "      <td>1</td>\n",
       "      <td>-1</td>\n",
       "      <td>1</td>\n",
       "      <td>1</td>\n",
       "      <td>-1</td>\n",
       "      <td>1</td>\n",
       "      <td>...</td>\n",
       "      <td>1</td>\n",
       "      <td>1</td>\n",
       "      <td>1</td>\n",
       "      <td>-1</td>\n",
       "      <td>1</td>\n",
       "      <td>1</td>\n",
       "      <td>1</td>\n",
       "      <td>0</td>\n",
       "      <td>1</td>\n",
       "      <td>1</td>\n",
       "    </tr>\n",
       "    <tr>\n",
       "      <th>10</th>\n",
       "      <td>1</td>\n",
       "      <td>1</td>\n",
       "      <td>1</td>\n",
       "      <td>1</td>\n",
       "      <td>1</td>\n",
       "      <td>-1</td>\n",
       "      <td>0</td>\n",
       "      <td>1</td>\n",
       "      <td>1</td>\n",
       "      <td>1</td>\n",
       "      <td>...</td>\n",
       "      <td>1</td>\n",
       "      <td>1</td>\n",
       "      <td>-1</td>\n",
       "      <td>1</td>\n",
       "      <td>1</td>\n",
       "      <td>1</td>\n",
       "      <td>1</td>\n",
       "      <td>-1</td>\n",
       "      <td>-1</td>\n",
       "      <td>1</td>\n",
       "    </tr>\n",
       "    <tr>\n",
       "      <th>14</th>\n",
       "      <td>1</td>\n",
       "      <td>1</td>\n",
       "      <td>-1</td>\n",
       "      <td>1</td>\n",
       "      <td>1</td>\n",
       "      <td>1</td>\n",
       "      <td>-1</td>\n",
       "      <td>1</td>\n",
       "      <td>-1</td>\n",
       "      <td>1</td>\n",
       "      <td>...</td>\n",
       "      <td>1</td>\n",
       "      <td>1</td>\n",
       "      <td>1</td>\n",
       "      <td>-1</td>\n",
       "      <td>1</td>\n",
       "      <td>-1</td>\n",
       "      <td>1</td>\n",
       "      <td>-1</td>\n",
       "      <td>1</td>\n",
       "      <td>1</td>\n",
       "    </tr>\n",
       "  </tbody>\n",
       "</table>\n",
       "<p>5 rows × 31 columns</p>\n",
       "</div>"
      ],
      "text/plain": [
       "    having_IP_Address  URL_Length  Shortining_Service  having_At_Symbol  \\\n",
       "4                   1           0                  -1                 1   \n",
       "5                  -1           0                  -1                 1   \n",
       "8                   1           0                  -1                 1   \n",
       "10                  1           1                   1                 1   \n",
       "14                  1           1                  -1                 1   \n",
       "\n",
       "    double_slash_redirecting  Prefix_Suffix  having_Sub_Domain  \\\n",
       "4                          1             -1                  1   \n",
       "5                         -1             -1                  1   \n",
       "8                          1             -1                  1   \n",
       "10                         1             -1                  0   \n",
       "14                         1              1                 -1   \n",
       "\n",
       "    SSLfinal_State  Domain_registeration_length  Favicon   ...    popUpWidnow  \\\n",
       "4                1                           -1        1   ...             -1   \n",
       "5                1                           -1        1   ...              1   \n",
       "8                1                           -1        1   ...              1   \n",
       "10               1                            1        1   ...              1   \n",
       "14               1                           -1        1   ...              1   \n",
       "\n",
       "    Iframe  age_of_domain  DNSRecord  web_traffic  Page_Rank  Google_Index  \\\n",
       "4        1             -1         -1            0         -1             1   \n",
       "5        1              1          1            1         -1             1   \n",
       "8        1              1         -1            1          1             1   \n",
       "10       1             -1          1            1          1             1   \n",
       "14       1              1         -1            1         -1             1   \n",
       "\n",
       "    Links_pointing_to_page  Statistical_report  Result  \n",
       "4                        1                   1       1  \n",
       "5                       -1                  -1       1  \n",
       "8                        0                   1       1  \n",
       "10                      -1                  -1       1  \n",
       "14                      -1                   1       1  \n",
       "\n",
       "[5 rows x 31 columns]"
      ]
     },
     "execution_count": 8,
     "metadata": {},
     "output_type": "execute_result"
    }
   ],
   "source": [
    "# These are the observations that are phishing websites\n",
    "phishing[phishing['Result']==1].head()"
   ]
  },
  {
   "cell_type": "code",
   "execution_count": 9,
   "metadata": {},
   "outputs": [
    {
     "data": {
      "text/html": [
       "<div>\n",
       "<style>\n",
       "    .dataframe thead tr:only-child th {\n",
       "        text-align: right;\n",
       "    }\n",
       "\n",
       "    .dataframe thead th {\n",
       "        text-align: left;\n",
       "    }\n",
       "\n",
       "    .dataframe tbody tr th {\n",
       "        vertical-align: top;\n",
       "    }\n",
       "</style>\n",
       "<table border=\"1\" class=\"dataframe\">\n",
       "  <thead>\n",
       "    <tr style=\"text-align: right;\">\n",
       "      <th></th>\n",
       "      <th>having_IP_Address</th>\n",
       "      <th>URL_Length</th>\n",
       "      <th>Shortining_Service</th>\n",
       "      <th>having_At_Symbol</th>\n",
       "      <th>double_slash_redirecting</th>\n",
       "      <th>Prefix_Suffix</th>\n",
       "      <th>having_Sub_Domain</th>\n",
       "      <th>SSLfinal_State</th>\n",
       "      <th>Domain_registeration_length</th>\n",
       "      <th>Favicon</th>\n",
       "      <th>...</th>\n",
       "      <th>popUpWidnow</th>\n",
       "      <th>Iframe</th>\n",
       "      <th>age_of_domain</th>\n",
       "      <th>DNSRecord</th>\n",
       "      <th>web_traffic</th>\n",
       "      <th>Page_Rank</th>\n",
       "      <th>Google_Index</th>\n",
       "      <th>Links_pointing_to_page</th>\n",
       "      <th>Statistical_report</th>\n",
       "      <th>Result</th>\n",
       "    </tr>\n",
       "  </thead>\n",
       "  <tbody>\n",
       "    <tr>\n",
       "      <th>4</th>\n",
       "      <td>1</td>\n",
       "      <td>0</td>\n",
       "      <td>-1</td>\n",
       "      <td>1</td>\n",
       "      <td>1</td>\n",
       "      <td>-1</td>\n",
       "      <td>1</td>\n",
       "      <td>1</td>\n",
       "      <td>-1</td>\n",
       "      <td>1</td>\n",
       "      <td>...</td>\n",
       "      <td>-1</td>\n",
       "      <td>1</td>\n",
       "      <td>-1</td>\n",
       "      <td>-1</td>\n",
       "      <td>0</td>\n",
       "      <td>-1</td>\n",
       "      <td>1</td>\n",
       "      <td>1</td>\n",
       "      <td>1</td>\n",
       "      <td>1</td>\n",
       "    </tr>\n",
       "    <tr>\n",
       "      <th>5</th>\n",
       "      <td>-1</td>\n",
       "      <td>0</td>\n",
       "      <td>-1</td>\n",
       "      <td>1</td>\n",
       "      <td>-1</td>\n",
       "      <td>-1</td>\n",
       "      <td>1</td>\n",
       "      <td>1</td>\n",
       "      <td>-1</td>\n",
       "      <td>1</td>\n",
       "      <td>...</td>\n",
       "      <td>1</td>\n",
       "      <td>1</td>\n",
       "      <td>1</td>\n",
       "      <td>1</td>\n",
       "      <td>1</td>\n",
       "      <td>-1</td>\n",
       "      <td>1</td>\n",
       "      <td>-1</td>\n",
       "      <td>-1</td>\n",
       "      <td>1</td>\n",
       "    </tr>\n",
       "    <tr>\n",
       "      <th>8</th>\n",
       "      <td>1</td>\n",
       "      <td>0</td>\n",
       "      <td>-1</td>\n",
       "      <td>1</td>\n",
       "      <td>1</td>\n",
       "      <td>-1</td>\n",
       "      <td>1</td>\n",
       "      <td>1</td>\n",
       "      <td>-1</td>\n",
       "      <td>1</td>\n",
       "      <td>...</td>\n",
       "      <td>1</td>\n",
       "      <td>1</td>\n",
       "      <td>1</td>\n",
       "      <td>-1</td>\n",
       "      <td>1</td>\n",
       "      <td>1</td>\n",
       "      <td>1</td>\n",
       "      <td>0</td>\n",
       "      <td>1</td>\n",
       "      <td>1</td>\n",
       "    </tr>\n",
       "    <tr>\n",
       "      <th>10</th>\n",
       "      <td>1</td>\n",
       "      <td>1</td>\n",
       "      <td>1</td>\n",
       "      <td>1</td>\n",
       "      <td>1</td>\n",
       "      <td>-1</td>\n",
       "      <td>0</td>\n",
       "      <td>1</td>\n",
       "      <td>1</td>\n",
       "      <td>1</td>\n",
       "      <td>...</td>\n",
       "      <td>1</td>\n",
       "      <td>1</td>\n",
       "      <td>-1</td>\n",
       "      <td>1</td>\n",
       "      <td>1</td>\n",
       "      <td>1</td>\n",
       "      <td>1</td>\n",
       "      <td>-1</td>\n",
       "      <td>-1</td>\n",
       "      <td>1</td>\n",
       "    </tr>\n",
       "    <tr>\n",
       "      <th>14</th>\n",
       "      <td>1</td>\n",
       "      <td>1</td>\n",
       "      <td>-1</td>\n",
       "      <td>1</td>\n",
       "      <td>1</td>\n",
       "      <td>1</td>\n",
       "      <td>-1</td>\n",
       "      <td>1</td>\n",
       "      <td>-1</td>\n",
       "      <td>1</td>\n",
       "      <td>...</td>\n",
       "      <td>1</td>\n",
       "      <td>1</td>\n",
       "      <td>1</td>\n",
       "      <td>-1</td>\n",
       "      <td>1</td>\n",
       "      <td>-1</td>\n",
       "      <td>1</td>\n",
       "      <td>-1</td>\n",
       "      <td>1</td>\n",
       "      <td>1</td>\n",
       "    </tr>\n",
       "  </tbody>\n",
       "</table>\n",
       "<p>5 rows × 31 columns</p>\n",
       "</div>"
      ],
      "text/plain": [
       "    having_IP_Address  URL_Length  Shortining_Service  having_At_Symbol  \\\n",
       "4                   1           0                  -1                 1   \n",
       "5                  -1           0                  -1                 1   \n",
       "8                   1           0                  -1                 1   \n",
       "10                  1           1                   1                 1   \n",
       "14                  1           1                  -1                 1   \n",
       "\n",
       "    double_slash_redirecting  Prefix_Suffix  having_Sub_Domain  \\\n",
       "4                          1             -1                  1   \n",
       "5                         -1             -1                  1   \n",
       "8                          1             -1                  1   \n",
       "10                         1             -1                  0   \n",
       "14                         1              1                 -1   \n",
       "\n",
       "    SSLfinal_State  Domain_registeration_length  Favicon   ...    popUpWidnow  \\\n",
       "4                1                           -1        1   ...             -1   \n",
       "5                1                           -1        1   ...              1   \n",
       "8                1                           -1        1   ...              1   \n",
       "10               1                            1        1   ...              1   \n",
       "14               1                           -1        1   ...              1   \n",
       "\n",
       "    Iframe  age_of_domain  DNSRecord  web_traffic  Page_Rank  Google_Index  \\\n",
       "4        1             -1         -1            0         -1             1   \n",
       "5        1              1          1            1         -1             1   \n",
       "8        1              1         -1            1          1             1   \n",
       "10       1             -1          1            1          1             1   \n",
       "14       1              1         -1            1         -1             1   \n",
       "\n",
       "    Links_pointing_to_page  Statistical_report  Result  \n",
       "4                        1                   1       1  \n",
       "5                       -1                  -1       1  \n",
       "8                        0                   1       1  \n",
       "10                      -1                  -1       1  \n",
       "14                      -1                   1       1  \n",
       "\n",
       "[5 rows x 31 columns]"
      ]
     },
     "execution_count": 9,
     "metadata": {},
     "output_type": "execute_result"
    }
   ],
   "source": [
    "# These websites have an @ symbol in the URL AND are phishing\n",
    "phishing[(phishing['Result']==1) & (phishing['having_At_Symbol']==1)].head()"
   ]
  },
  {
   "cell_type": "code",
   "execution_count": 10,
   "metadata": {},
   "outputs": [
    {
     "name": "stdout",
     "output_type": "stream",
     "text": [
      "0.567978723404\n",
      "0.867143089167\n"
     ]
    }
   ],
   "source": [
    "# 1. What percentage of websites with the @ symbol are phishing websites?\n",
    "# 2. What percentage of phishing websites have an @ symbol?\n",
    "\n",
    "\n",
    "\n",
    "\n",
    "\n",
    "\n",
    "\n",
    "#1. \n",
    "num_phishing = phishing[phishing['Result']==1].shape[0]\n",
    "num_phishing_and_at_symbol = phishing[(phishing['Result']==1) & (phishing['having_At_Symbol']==1)].shape[0]\n",
    "num_at_symbol = phishing[phishing['having_At_Symbol']==1].shape[0]\n",
    "print num_phishing_and_at_symbol/float(num_at_symbol)\n",
    "\n",
    "#2. \n",
    "print num_phishing_and_at_symbol/float(num_phishing)"
   ]
  },
  {
   "cell_type": "markdown",
   "metadata": {},
   "source": [
    "In probability terms..\n",
    "\n",
    "If\n",
    "* A = Website is phishing\n",
    "* B = Website has @ symbol\n",
    "\n",
    "and\n",
    "\n",
    "$$P(A|B) = 0.56797$$\n",
    "\n",
    "$$P(B|A) = 0.86714$$\n",
    "\n",
    "Let's do a quick sanity check and see if Bayes Formula holds here.\n",
    "For those who are unfamiliar or had too fun last night at the slots..\n",
    "\n",
    "### Bayes Formula\n",
    "$$P(A|B) = \\frac{P(B|A)*P(A)}{P(B)}$$"
   ]
  },
  {
   "cell_type": "code",
   "execution_count": 11,
   "metadata": {
    "collapsed": true
   },
   "outputs": [],
   "source": [
    "p_b_a = num_phishing_and_at_symbol/float(num_phishing)  # P(B|A)\n",
    "p_a_b = num_phishing_and_at_symbol/float(num_at_symbol) # P(A|B)\n",
    "p_a = num_phishing / float(phishing.shape[0])           # P(A)\n",
    "p_b = num_at_symbol / float(phishing.shape[0])          # P(B)"
   ]
  },
  {
   "cell_type": "code",
   "execution_count": 12,
   "metadata": {},
   "outputs": [
    {
     "data": {
      "text/plain": [
       "1.1102230246251565e-16"
      ]
     },
     "execution_count": 12,
     "metadata": {},
     "output_type": "execute_result"
    }
   ],
   "source": [
    "p_a_b - (p_b_a*p_a)/p_b  # which evaluates to 1.11*10^-16, which is basically 0, up to floating point division\n",
    "# Yay math still works, good to know"
   ]
  },
  {
   "cell_type": "code",
   "execution_count": null,
   "metadata": {
    "collapsed": true
   },
   "outputs": [],
   "source": []
  },
  {
   "cell_type": "code",
   "execution_count": null,
   "metadata": {
    "collapsed": true
   },
   "outputs": [],
   "source": []
  },
  {
   "cell_type": "code",
   "execution_count": 13,
   "metadata": {},
   "outputs": [
    {
     "data": {
      "text/html": [
       "<div>\n",
       "<style>\n",
       "    .dataframe thead tr:only-child th {\n",
       "        text-align: right;\n",
       "    }\n",
       "\n",
       "    .dataframe thead th {\n",
       "        text-align: left;\n",
       "    }\n",
       "\n",
       "    .dataframe tbody tr th {\n",
       "        vertical-align: top;\n",
       "    }\n",
       "</style>\n",
       "<table border=\"1\" class=\"dataframe\">\n",
       "  <thead>\n",
       "    <tr style=\"text-align: right;\">\n",
       "      <th></th>\n",
       "      <th>Result</th>\n",
       "      <th>having_At_Symbol</th>\n",
       "    </tr>\n",
       "  </thead>\n",
       "  <tbody>\n",
       "    <tr>\n",
       "      <th>0</th>\n",
       "      <td>-1</td>\n",
       "      <td>1</td>\n",
       "    </tr>\n",
       "    <tr>\n",
       "      <th>1</th>\n",
       "      <td>-1</td>\n",
       "      <td>1</td>\n",
       "    </tr>\n",
       "    <tr>\n",
       "      <th>2</th>\n",
       "      <td>-1</td>\n",
       "      <td>1</td>\n",
       "    </tr>\n",
       "    <tr>\n",
       "      <th>3</th>\n",
       "      <td>-1</td>\n",
       "      <td>1</td>\n",
       "    </tr>\n",
       "    <tr>\n",
       "      <th>4</th>\n",
       "      <td>1</td>\n",
       "      <td>1</td>\n",
       "    </tr>\n",
       "  </tbody>\n",
       "</table>\n",
       "</div>"
      ],
      "text/plain": [
       "   Result  having_At_Symbol\n",
       "0      -1                 1\n",
       "1      -1                 1\n",
       "2      -1                 1\n",
       "3      -1                 1\n",
       "4       1                 1"
      ]
     },
     "execution_count": 13,
     "metadata": {},
     "output_type": "execute_result"
    }
   ],
   "source": [
    "# To select only a few columns from the DataFrame, we input a list of column names into the [] selection\n",
    "# mechanism in the DataFrame\n",
    "phishing[['Result', 'having_At_Symbol']].head()"
   ]
  },
  {
   "cell_type": "code",
   "execution_count": null,
   "metadata": {
    "collapsed": true
   },
   "outputs": [],
   "source": []
  },
  {
   "cell_type": "code",
   "execution_count": null,
   "metadata": {
    "collapsed": true
   },
   "outputs": [],
   "source": []
  },
  {
   "cell_type": "code",
   "execution_count": 14,
   "metadata": {},
   "outputs": [
    {
     "data": {
      "text/html": [
       "<div>\n",
       "<style>\n",
       "    .dataframe thead tr:only-child th {\n",
       "        text-align: right;\n",
       "    }\n",
       "\n",
       "    .dataframe thead th {\n",
       "        text-align: left;\n",
       "    }\n",
       "\n",
       "    .dataframe tbody tr th {\n",
       "        vertical-align: top;\n",
       "    }\n",
       "</style>\n",
       "<table border=\"1\" class=\"dataframe\">\n",
       "  <thead>\n",
       "    <tr style=\"text-align: right;\">\n",
       "      <th></th>\n",
       "      <th>Result</th>\n",
       "      <th>having_At_Symbol</th>\n",
       "    </tr>\n",
       "  </thead>\n",
       "  <tbody>\n",
       "    <tr>\n",
       "      <th>Result</th>\n",
       "      <td>1.000000</td>\n",
       "      <td>0.052948</td>\n",
       "    </tr>\n",
       "    <tr>\n",
       "      <th>having_At_Symbol</th>\n",
       "      <td>0.052948</td>\n",
       "      <td>1.000000</td>\n",
       "    </tr>\n",
       "  </tbody>\n",
       "</table>\n",
       "</div>"
      ],
      "text/plain": [
       "                    Result  having_At_Symbol\n",
       "Result            1.000000          0.052948\n",
       "having_At_Symbol  0.052948          1.000000"
      ]
     },
     "execution_count": 14,
     "metadata": {},
     "output_type": "execute_result"
    }
   ],
   "source": [
    "# The fact that P(A|B)=0.56797 means that more than half of the urls with @ symbol are phishing. This seems promising\n",
    "# Let's check the linear correlation coefficient between the two variables\n",
    "phishing[['Result', 'having_At_Symbol']].corr()  # Done easily with pandas"
   ]
  },
  {
   "cell_type": "code",
   "execution_count": 15,
   "metadata": {
    "collapsed": true
   },
   "outputs": [],
   "source": [
    "# It seems that the correlation matrix is suggesting a very weak linear correlation, but that doesn't mean\n",
    "# that this variable is not helpful in predicting whether or not a website is phishing"
   ]
  },
  {
   "cell_type": "code",
   "execution_count": null,
   "metadata": {
    "collapsed": true
   },
   "outputs": [],
   "source": []
  },
  {
   "cell_type": "code",
   "execution_count": null,
   "metadata": {
    "collapsed": true
   },
   "outputs": [],
   "source": []
  },
  {
   "cell_type": "code",
   "execution_count": 16,
   "metadata": {},
   "outputs": [
    {
     "data": {
      "text/html": [
       "<div>\n",
       "<style>\n",
       "    .dataframe thead tr:only-child th {\n",
       "        text-align: right;\n",
       "    }\n",
       "\n",
       "    .dataframe thead th {\n",
       "        text-align: left;\n",
       "    }\n",
       "\n",
       "    .dataframe tbody tr th {\n",
       "        vertical-align: top;\n",
       "    }\n",
       "</style>\n",
       "<table border=\"1\" class=\"dataframe\">\n",
       "  <thead>\n",
       "    <tr style=\"text-align: right;\">\n",
       "      <th></th>\n",
       "      <th>having_IP_Address</th>\n",
       "      <th>URL_Length</th>\n",
       "      <th>Shortining_Service</th>\n",
       "      <th>having_At_Symbol</th>\n",
       "      <th>double_slash_redirecting</th>\n",
       "      <th>Prefix_Suffix</th>\n",
       "      <th>having_Sub_Domain</th>\n",
       "      <th>SSLfinal_State</th>\n",
       "      <th>Domain_registeration_length</th>\n",
       "      <th>Favicon</th>\n",
       "      <th>...</th>\n",
       "      <th>popUpWidnow</th>\n",
       "      <th>Iframe</th>\n",
       "      <th>age_of_domain</th>\n",
       "      <th>DNSRecord</th>\n",
       "      <th>web_traffic</th>\n",
       "      <th>Page_Rank</th>\n",
       "      <th>Google_Index</th>\n",
       "      <th>Links_pointing_to_page</th>\n",
       "      <th>Statistical_report</th>\n",
       "      <th>Result</th>\n",
       "    </tr>\n",
       "  </thead>\n",
       "  <tbody>\n",
       "    <tr>\n",
       "      <th>having_IP_Address</th>\n",
       "      <td>1.000000</td>\n",
       "      <td>-0.052411</td>\n",
       "      <td>0.403461</td>\n",
       "      <td>0.158699</td>\n",
       "      <td>0.397389</td>\n",
       "      <td>-0.005257</td>\n",
       "      <td>-0.080745</td>\n",
       "      <td>0.071414</td>\n",
       "      <td>-0.022739</td>\n",
       "      <td>0.087025</td>\n",
       "      <td>...</td>\n",
       "      <td>0.096882</td>\n",
       "      <td>0.054694</td>\n",
       "      <td>-0.010446</td>\n",
       "      <td>-0.050733</td>\n",
       "      <td>0.002922</td>\n",
       "      <td>-0.091774</td>\n",
       "      <td>0.029153</td>\n",
       "      <td>-0.339065</td>\n",
       "      <td>-0.019103</td>\n",
       "      <td>0.094160</td>\n",
       "    </tr>\n",
       "    <tr>\n",
       "      <th>URL_Length</th>\n",
       "      <td>-0.052411</td>\n",
       "      <td>1.000000</td>\n",
       "      <td>-0.097881</td>\n",
       "      <td>-0.075108</td>\n",
       "      <td>-0.081247</td>\n",
       "      <td>0.055247</td>\n",
       "      <td>0.003997</td>\n",
       "      <td>0.048754</td>\n",
       "      <td>-0.221892</td>\n",
       "      <td>-0.042497</td>\n",
       "      <td>...</td>\n",
       "      <td>-0.049381</td>\n",
       "      <td>-0.013838</td>\n",
       "      <td>0.179426</td>\n",
       "      <td>-0.040823</td>\n",
       "      <td>0.008993</td>\n",
       "      <td>0.183518</td>\n",
       "      <td>0.002902</td>\n",
       "      <td>-0.022987</td>\n",
       "      <td>-0.067153</td>\n",
       "      <td>0.057430</td>\n",
       "    </tr>\n",
       "    <tr>\n",
       "      <th>Shortining_Service</th>\n",
       "      <td>0.403461</td>\n",
       "      <td>-0.097881</td>\n",
       "      <td>1.000000</td>\n",
       "      <td>0.104447</td>\n",
       "      <td>0.842796</td>\n",
       "      <td>-0.080471</td>\n",
       "      <td>-0.041916</td>\n",
       "      <td>-0.061426</td>\n",
       "      <td>0.060923</td>\n",
       "      <td>0.006101</td>\n",
       "      <td>...</td>\n",
       "      <td>0.036616</td>\n",
       "      <td>0.016581</td>\n",
       "      <td>-0.052596</td>\n",
       "      <td>0.436064</td>\n",
       "      <td>-0.047074</td>\n",
       "      <td>0.014591</td>\n",
       "      <td>0.155844</td>\n",
       "      <td>-0.198410</td>\n",
       "      <td>0.085461</td>\n",
       "      <td>-0.067966</td>\n",
       "    </tr>\n",
       "    <tr>\n",
       "      <th>having_At_Symbol</th>\n",
       "      <td>0.158699</td>\n",
       "      <td>-0.075108</td>\n",
       "      <td>0.104447</td>\n",
       "      <td>1.000000</td>\n",
       "      <td>0.086960</td>\n",
       "      <td>-0.011726</td>\n",
       "      <td>-0.058976</td>\n",
       "      <td>0.031220</td>\n",
       "      <td>0.015522</td>\n",
       "      <td>0.304899</td>\n",
       "      <td>...</td>\n",
       "      <td>0.290893</td>\n",
       "      <td>0.284410</td>\n",
       "      <td>-0.005499</td>\n",
       "      <td>-0.047872</td>\n",
       "      <td>0.032918</td>\n",
       "      <td>-0.064735</td>\n",
       "      <td>0.037061</td>\n",
       "      <td>-0.006080</td>\n",
       "      <td>-0.080357</td>\n",
       "      <td>0.052948</td>\n",
       "    </tr>\n",
       "    <tr>\n",
       "      <th>double_slash_redirecting</th>\n",
       "      <td>0.397389</td>\n",
       "      <td>-0.081247</td>\n",
       "      <td>0.842796</td>\n",
       "      <td>0.086960</td>\n",
       "      <td>1.000000</td>\n",
       "      <td>-0.085590</td>\n",
       "      <td>-0.043079</td>\n",
       "      <td>-0.036200</td>\n",
       "      <td>0.047464</td>\n",
       "      <td>0.035100</td>\n",
       "      <td>...</td>\n",
       "      <td>0.054463</td>\n",
       "      <td>0.010459</td>\n",
       "      <td>-0.050107</td>\n",
       "      <td>0.431409</td>\n",
       "      <td>-0.062369</td>\n",
       "      <td>-0.003132</td>\n",
       "      <td>0.178415</td>\n",
       "      <td>-0.194165</td>\n",
       "      <td>0.070390</td>\n",
       "      <td>-0.038608</td>\n",
       "    </tr>\n",
       "    <tr>\n",
       "      <th>Prefix_Suffix</th>\n",
       "      <td>-0.005257</td>\n",
       "      <td>0.055247</td>\n",
       "      <td>-0.080471</td>\n",
       "      <td>-0.011726</td>\n",
       "      <td>-0.085590</td>\n",
       "      <td>1.000000</td>\n",
       "      <td>0.087891</td>\n",
       "      <td>0.261391</td>\n",
       "      <td>-0.096799</td>\n",
       "      <td>-0.007504</td>\n",
       "      <td>...</td>\n",
       "      <td>-0.014733</td>\n",
       "      <td>-0.036904</td>\n",
       "      <td>0.074116</td>\n",
       "      <td>-0.016556</td>\n",
       "      <td>0.110598</td>\n",
       "      <td>-0.006834</td>\n",
       "      <td>0.067781</td>\n",
       "      <td>0.067423</td>\n",
       "      <td>-0.002763</td>\n",
       "      <td>0.348606</td>\n",
       "    </tr>\n",
       "    <tr>\n",
       "      <th>having_Sub_Domain</th>\n",
       "      <td>-0.080745</td>\n",
       "      <td>0.003997</td>\n",
       "      <td>-0.041916</td>\n",
       "      <td>-0.058976</td>\n",
       "      <td>-0.043079</td>\n",
       "      <td>0.087891</td>\n",
       "      <td>1.000000</td>\n",
       "      <td>0.267649</td>\n",
       "      <td>-0.082839</td>\n",
       "      <td>-0.016704</td>\n",
       "      <td>...</td>\n",
       "      <td>-0.025312</td>\n",
       "      <td>0.010637</td>\n",
       "      <td>0.119254</td>\n",
       "      <td>0.125493</td>\n",
       "      <td>-0.005764</td>\n",
       "      <td>0.120730</td>\n",
       "      <td>0.057673</td>\n",
       "      <td>-0.010526</td>\n",
       "      <td>0.081627</td>\n",
       "      <td>0.298323</td>\n",
       "    </tr>\n",
       "    <tr>\n",
       "      <th>SSLfinal_State</th>\n",
       "      <td>0.071414</td>\n",
       "      <td>0.048754</td>\n",
       "      <td>-0.061426</td>\n",
       "      <td>0.031220</td>\n",
       "      <td>-0.036200</td>\n",
       "      <td>0.261391</td>\n",
       "      <td>0.267649</td>\n",
       "      <td>1.000000</td>\n",
       "      <td>-0.193622</td>\n",
       "      <td>-0.014757</td>\n",
       "      <td>...</td>\n",
       "      <td>-0.013005</td>\n",
       "      <td>-0.002773</td>\n",
       "      <td>0.162809</td>\n",
       "      <td>0.050972</td>\n",
       "      <td>0.258768</td>\n",
       "      <td>0.074545</td>\n",
       "      <td>0.096051</td>\n",
       "      <td>-0.011710</td>\n",
       "      <td>0.063411</td>\n",
       "      <td>0.714741</td>\n",
       "    </tr>\n",
       "    <tr>\n",
       "      <th>Domain_registeration_length</th>\n",
       "      <td>-0.022739</td>\n",
       "      <td>-0.221892</td>\n",
       "      <td>0.060923</td>\n",
       "      <td>0.015522</td>\n",
       "      <td>0.047464</td>\n",
       "      <td>-0.096799</td>\n",
       "      <td>-0.082839</td>\n",
       "      <td>-0.193622</td>\n",
       "      <td>1.000000</td>\n",
       "      <td>0.054253</td>\n",
       "      <td>...</td>\n",
       "      <td>0.051410</td>\n",
       "      <td>0.004393</td>\n",
       "      <td>-0.062851</td>\n",
       "      <td>-0.010477</td>\n",
       "      <td>-0.134454</td>\n",
       "      <td>-0.059898</td>\n",
       "      <td>-0.039766</td>\n",
       "      <td>0.122672</td>\n",
       "      <td>-0.002212</td>\n",
       "      <td>-0.225789</td>\n",
       "    </tr>\n",
       "    <tr>\n",
       "      <th>Favicon</th>\n",
       "      <td>0.087025</td>\n",
       "      <td>-0.042497</td>\n",
       "      <td>0.006101</td>\n",
       "      <td>0.304899</td>\n",
       "      <td>0.035100</td>\n",
       "      <td>-0.007504</td>\n",
       "      <td>-0.016704</td>\n",
       "      <td>-0.014757</td>\n",
       "      <td>0.054253</td>\n",
       "      <td>1.000000</td>\n",
       "      <td>...</td>\n",
       "      <td>0.939633</td>\n",
       "      <td>0.627607</td>\n",
       "      <td>-0.002628</td>\n",
       "      <td>0.088211</td>\n",
       "      <td>-0.050922</td>\n",
       "      <td>0.011699</td>\n",
       "      <td>-0.016668</td>\n",
       "      <td>-0.127243</td>\n",
       "      <td>0.300917</td>\n",
       "      <td>-0.000280</td>\n",
       "    </tr>\n",
       "    <tr>\n",
       "      <th>port</th>\n",
       "      <td>0.060979</td>\n",
       "      <td>0.000323</td>\n",
       "      <td>0.002201</td>\n",
       "      <td>0.364891</td>\n",
       "      <td>0.025060</td>\n",
       "      <td>-0.022546</td>\n",
       "      <td>0.004863</td>\n",
       "      <td>0.027473</td>\n",
       "      <td>0.022478</td>\n",
       "      <td>0.803834</td>\n",
       "      <td>...</td>\n",
       "      <td>0.748517</td>\n",
       "      <td>0.687044</td>\n",
       "      <td>0.008459</td>\n",
       "      <td>0.054849</td>\n",
       "      <td>-0.028543</td>\n",
       "      <td>0.017954</td>\n",
       "      <td>-0.005413</td>\n",
       "      <td>-0.139104</td>\n",
       "      <td>0.343987</td>\n",
       "      <td>0.036419</td>\n",
       "    </tr>\n",
       "    <tr>\n",
       "      <th>HTTPS_token</th>\n",
       "      <td>0.363534</td>\n",
       "      <td>-0.089383</td>\n",
       "      <td>0.757838</td>\n",
       "      <td>0.104561</td>\n",
       "      <td>0.760799</td>\n",
       "      <td>-0.070153</td>\n",
       "      <td>-0.037239</td>\n",
       "      <td>-0.029941</td>\n",
       "      <td>0.059161</td>\n",
       "      <td>0.049483</td>\n",
       "      <td>...</td>\n",
       "      <td>0.066957</td>\n",
       "      <td>0.017509</td>\n",
       "      <td>-0.049632</td>\n",
       "      <td>0.395387</td>\n",
       "      <td>-0.039708</td>\n",
       "      <td>0.021104</td>\n",
       "      <td>0.115450</td>\n",
       "      <td>-0.128724</td>\n",
       "      <td>0.096187</td>\n",
       "      <td>-0.039854</td>\n",
       "    </tr>\n",
       "    <tr>\n",
       "      <th>Request_URL</th>\n",
       "      <td>0.029773</td>\n",
       "      <td>0.246348</td>\n",
       "      <td>-0.037235</td>\n",
       "      <td>0.027909</td>\n",
       "      <td>-0.026368</td>\n",
       "      <td>0.098675</td>\n",
       "      <td>0.104857</td>\n",
       "      <td>0.193054</td>\n",
       "      <td>-0.609970</td>\n",
       "      <td>-0.004620</td>\n",
       "      <td>...</td>\n",
       "      <td>-0.004622</td>\n",
       "      <td>0.016934</td>\n",
       "      <td>0.090455</td>\n",
       "      <td>0.015933</td>\n",
       "      <td>0.161166</td>\n",
       "      <td>0.055734</td>\n",
       "      <td>0.046409</td>\n",
       "      <td>-0.067109</td>\n",
       "      <td>0.035412</td>\n",
       "      <td>0.253372</td>\n",
       "    </tr>\n",
       "    <tr>\n",
       "      <th>URL_of_Anchor</th>\n",
       "      <td>0.099847</td>\n",
       "      <td>-0.023396</td>\n",
       "      <td>0.000561</td>\n",
       "      <td>0.057914</td>\n",
       "      <td>-0.005036</td>\n",
       "      <td>0.348871</td>\n",
       "      <td>0.229491</td>\n",
       "      <td>0.535786</td>\n",
       "      <td>-0.160257</td>\n",
       "      <td>0.037698</td>\n",
       "      <td>...</td>\n",
       "      <td>0.041150</td>\n",
       "      <td>0.013403</td>\n",
       "      <td>0.075508</td>\n",
       "      <td>0.093288</td>\n",
       "      <td>0.326293</td>\n",
       "      <td>0.099261</td>\n",
       "      <td>0.038816</td>\n",
       "      <td>0.018651</td>\n",
       "      <td>0.077377</td>\n",
       "      <td>0.692935</td>\n",
       "    </tr>\n",
       "    <tr>\n",
       "      <th>Links_in_tags</th>\n",
       "      <td>0.006212</td>\n",
       "      <td>0.052869</td>\n",
       "      <td>-0.133379</td>\n",
       "      <td>-0.070861</td>\n",
       "      <td>-0.125583</td>\n",
       "      <td>0.100254</td>\n",
       "      <td>0.093646</td>\n",
       "      <td>0.176825</td>\n",
       "      <td>-0.101084</td>\n",
       "      <td>-0.100341</td>\n",
       "      <td>...</td>\n",
       "      <td>-0.112282</td>\n",
       "      <td>-0.070030</td>\n",
       "      <td>0.078057</td>\n",
       "      <td>-0.038545</td>\n",
       "      <td>0.064548</td>\n",
       "      <td>-0.006450</td>\n",
       "      <td>0.045557</td>\n",
       "      <td>0.013561</td>\n",
       "      <td>-0.087343</td>\n",
       "      <td>0.248229</td>\n",
       "    </tr>\n",
       "    <tr>\n",
       "      <th>SFH</th>\n",
       "      <td>-0.010962</td>\n",
       "      <td>0.414196</td>\n",
       "      <td>-0.022723</td>\n",
       "      <td>-0.008672</td>\n",
       "      <td>-0.041672</td>\n",
       "      <td>0.001326</td>\n",
       "      <td>0.096089</td>\n",
       "      <td>0.171402</td>\n",
       "      <td>-0.136422</td>\n",
       "      <td>-0.012279</td>\n",
       "      <td>...</td>\n",
       "      <td>-0.004863</td>\n",
       "      <td>0.007067</td>\n",
       "      <td>-0.015840</td>\n",
       "      <td>0.034440</td>\n",
       "      <td>0.052706</td>\n",
       "      <td>0.001979</td>\n",
       "      <td>0.027588</td>\n",
       "      <td>-0.009068</td>\n",
       "      <td>-0.005289</td>\n",
       "      <td>0.221419</td>\n",
       "    </tr>\n",
       "    <tr>\n",
       "      <th>Submitting_to_email</th>\n",
       "      <td>0.077989</td>\n",
       "      <td>-0.014457</td>\n",
       "      <td>0.049328</td>\n",
       "      <td>0.370123</td>\n",
       "      <td>0.031898</td>\n",
       "      <td>-0.045000</td>\n",
       "      <td>0.008830</td>\n",
       "      <td>0.008062</td>\n",
       "      <td>0.039260</td>\n",
       "      <td>0.668317</td>\n",
       "      <td>...</td>\n",
       "      <td>0.629462</td>\n",
       "      <td>0.577490</td>\n",
       "      <td>0.007357</td>\n",
       "      <td>0.064145</td>\n",
       "      <td>-0.015685</td>\n",
       "      <td>0.026208</td>\n",
       "      <td>-0.008378</td>\n",
       "      <td>-0.039956</td>\n",
       "      <td>0.352074</td>\n",
       "      <td>0.018249</td>\n",
       "    </tr>\n",
       "    <tr>\n",
       "      <th>Abnormal_URL</th>\n",
       "      <td>0.336549</td>\n",
       "      <td>-0.106761</td>\n",
       "      <td>0.739290</td>\n",
       "      <td>0.203945</td>\n",
       "      <td>0.723724</td>\n",
       "      <td>-0.077620</td>\n",
       "      <td>-0.034908</td>\n",
       "      <td>-0.046245</td>\n",
       "      <td>0.058109</td>\n",
       "      <td>0.071848</td>\n",
       "      <td>...</td>\n",
       "      <td>0.091188</td>\n",
       "      <td>0.017590</td>\n",
       "      <td>-0.032533</td>\n",
       "      <td>0.366833</td>\n",
       "      <td>-0.052416</td>\n",
       "      <td>0.007318</td>\n",
       "      <td>0.124751</td>\n",
       "      <td>-0.161027</td>\n",
       "      <td>0.186399</td>\n",
       "      <td>-0.060488</td>\n",
       "    </tr>\n",
       "    <tr>\n",
       "      <th>Redirect</th>\n",
       "      <td>-0.321181</td>\n",
       "      <td>0.046832</td>\n",
       "      <td>-0.534530</td>\n",
       "      <td>-0.028160</td>\n",
       "      <td>-0.591478</td>\n",
       "      <td>0.016271</td>\n",
       "      <td>0.031206</td>\n",
       "      <td>-0.021070</td>\n",
       "      <td>-0.016300</td>\n",
       "      <td>-0.015621</td>\n",
       "      <td>...</td>\n",
       "      <td>-0.026327</td>\n",
       "      <td>-0.012668</td>\n",
       "      <td>-0.022476</td>\n",
       "      <td>-0.211096</td>\n",
       "      <td>0.004631</td>\n",
       "      <td>0.052867</td>\n",
       "      <td>0.057230</td>\n",
       "      <td>0.161278</td>\n",
       "      <td>-0.059194</td>\n",
       "      <td>-0.020113</td>\n",
       "    </tr>\n",
       "    <tr>\n",
       "      <th>on_mouseover</th>\n",
       "      <td>0.084059</td>\n",
       "      <td>-0.045103</td>\n",
       "      <td>0.062383</td>\n",
       "      <td>0.279697</td>\n",
       "      <td>0.086635</td>\n",
       "      <td>0.012578</td>\n",
       "      <td>-0.018082</td>\n",
       "      <td>0.023586</td>\n",
       "      <td>0.023784</td>\n",
       "      <td>0.706179</td>\n",
       "      <td>...</td>\n",
       "      <td>0.733629</td>\n",
       "      <td>0.659478</td>\n",
       "      <td>0.013306</td>\n",
       "      <td>0.087161</td>\n",
       "      <td>-0.036531</td>\n",
       "      <td>0.015634</td>\n",
       "      <td>-0.006510</td>\n",
       "      <td>-0.038551</td>\n",
       "      <td>0.277347</td>\n",
       "      <td>0.041838</td>\n",
       "    </tr>\n",
       "    <tr>\n",
       "      <th>RightClick</th>\n",
       "      <td>0.042881</td>\n",
       "      <td>-0.013613</td>\n",
       "      <td>0.038118</td>\n",
       "      <td>0.219503</td>\n",
       "      <td>0.025863</td>\n",
       "      <td>-0.024868</td>\n",
       "      <td>0.018230</td>\n",
       "      <td>0.015854</td>\n",
       "      <td>0.023520</td>\n",
       "      <td>0.414382</td>\n",
       "      <td>...</td>\n",
       "      <td>0.415268</td>\n",
       "      <td>0.655863</td>\n",
       "      <td>0.006764</td>\n",
       "      <td>0.038255</td>\n",
       "      <td>-0.013594</td>\n",
       "      <td>0.025341</td>\n",
       "      <td>-0.008066</td>\n",
       "      <td>-0.119831</td>\n",
       "      <td>0.204409</td>\n",
       "      <td>0.012653</td>\n",
       "    </tr>\n",
       "    <tr>\n",
       "      <th>popUpWidnow</th>\n",
       "      <td>0.096882</td>\n",
       "      <td>-0.049381</td>\n",
       "      <td>0.036616</td>\n",
       "      <td>0.290893</td>\n",
       "      <td>0.054463</td>\n",
       "      <td>-0.014733</td>\n",
       "      <td>-0.025312</td>\n",
       "      <td>-0.013005</td>\n",
       "      <td>0.051410</td>\n",
       "      <td>0.939633</td>\n",
       "      <td>...</td>\n",
       "      <td>1.000000</td>\n",
       "      <td>0.629406</td>\n",
       "      <td>-0.000948</td>\n",
       "      <td>0.098658</td>\n",
       "      <td>-0.043190</td>\n",
       "      <td>0.017114</td>\n",
       "      <td>-0.010256</td>\n",
       "      <td>-0.121325</td>\n",
       "      <td>0.285261</td>\n",
       "      <td>0.000086</td>\n",
       "    </tr>\n",
       "    <tr>\n",
       "      <th>Iframe</th>\n",
       "      <td>0.054694</td>\n",
       "      <td>-0.013838</td>\n",
       "      <td>0.016581</td>\n",
       "      <td>0.284410</td>\n",
       "      <td>0.010459</td>\n",
       "      <td>-0.036904</td>\n",
       "      <td>0.010637</td>\n",
       "      <td>-0.002773</td>\n",
       "      <td>0.004393</td>\n",
       "      <td>0.627607</td>\n",
       "      <td>...</td>\n",
       "      <td>0.629406</td>\n",
       "      <td>1.000000</td>\n",
       "      <td>0.018848</td>\n",
       "      <td>0.047293</td>\n",
       "      <td>-0.022080</td>\n",
       "      <td>0.022407</td>\n",
       "      <td>-0.003519</td>\n",
       "      <td>-0.140824</td>\n",
       "      <td>0.268418</td>\n",
       "      <td>-0.003394</td>\n",
       "    </tr>\n",
       "    <tr>\n",
       "      <th>age_of_domain</th>\n",
       "      <td>-0.010446</td>\n",
       "      <td>0.179426</td>\n",
       "      <td>-0.052596</td>\n",
       "      <td>-0.005499</td>\n",
       "      <td>-0.050107</td>\n",
       "      <td>0.074116</td>\n",
       "      <td>0.119254</td>\n",
       "      <td>0.162809</td>\n",
       "      <td>-0.062851</td>\n",
       "      <td>-0.002628</td>\n",
       "      <td>...</td>\n",
       "      <td>-0.000948</td>\n",
       "      <td>0.018848</td>\n",
       "      <td>1.000000</td>\n",
       "      <td>-0.034082</td>\n",
       "      <td>0.089949</td>\n",
       "      <td>-0.147194</td>\n",
       "      <td>-0.028471</td>\n",
       "      <td>0.040407</td>\n",
       "      <td>0.009115</td>\n",
       "      <td>0.121496</td>\n",
       "    </tr>\n",
       "    <tr>\n",
       "      <th>DNSRecord</th>\n",
       "      <td>-0.050733</td>\n",
       "      <td>-0.040823</td>\n",
       "      <td>0.436064</td>\n",
       "      <td>-0.047872</td>\n",
       "      <td>0.431409</td>\n",
       "      <td>-0.016556</td>\n",
       "      <td>0.125493</td>\n",
       "      <td>0.050972</td>\n",
       "      <td>-0.010477</td>\n",
       "      <td>0.088211</td>\n",
       "      <td>...</td>\n",
       "      <td>0.098658</td>\n",
       "      <td>0.047293</td>\n",
       "      <td>-0.034082</td>\n",
       "      <td>1.000000</td>\n",
       "      <td>0.048650</td>\n",
       "      <td>0.137860</td>\n",
       "      <td>0.137509</td>\n",
       "      <td>-0.318266</td>\n",
       "      <td>0.136860</td>\n",
       "      <td>0.075718</td>\n",
       "    </tr>\n",
       "    <tr>\n",
       "      <th>web_traffic</th>\n",
       "      <td>0.002922</td>\n",
       "      <td>0.008993</td>\n",
       "      <td>-0.047074</td>\n",
       "      <td>0.032918</td>\n",
       "      <td>-0.062369</td>\n",
       "      <td>0.110598</td>\n",
       "      <td>-0.005764</td>\n",
       "      <td>0.258768</td>\n",
       "      <td>-0.134454</td>\n",
       "      <td>-0.050922</td>\n",
       "      <td>...</td>\n",
       "      <td>-0.043190</td>\n",
       "      <td>-0.022080</td>\n",
       "      <td>0.089949</td>\n",
       "      <td>0.048650</td>\n",
       "      <td>1.000000</td>\n",
       "      <td>0.030984</td>\n",
       "      <td>-0.012584</td>\n",
       "      <td>-0.019860</td>\n",
       "      <td>0.009223</td>\n",
       "      <td>0.346103</td>\n",
       "    </tr>\n",
       "    <tr>\n",
       "      <th>Page_Rank</th>\n",
       "      <td>-0.091774</td>\n",
       "      <td>0.183518</td>\n",
       "      <td>0.014591</td>\n",
       "      <td>-0.064735</td>\n",
       "      <td>-0.003132</td>\n",
       "      <td>-0.006834</td>\n",
       "      <td>0.120730</td>\n",
       "      <td>0.074545</td>\n",
       "      <td>-0.059898</td>\n",
       "      <td>0.011699</td>\n",
       "      <td>...</td>\n",
       "      <td>0.017114</td>\n",
       "      <td>0.022407</td>\n",
       "      <td>-0.147194</td>\n",
       "      <td>0.137860</td>\n",
       "      <td>0.030984</td>\n",
       "      <td>1.000000</td>\n",
       "      <td>0.032431</td>\n",
       "      <td>-0.028216</td>\n",
       "      <td>0.031049</td>\n",
       "      <td>0.104645</td>\n",
       "    </tr>\n",
       "    <tr>\n",
       "      <th>Google_Index</th>\n",
       "      <td>0.029153</td>\n",
       "      <td>0.002902</td>\n",
       "      <td>0.155844</td>\n",
       "      <td>0.037061</td>\n",
       "      <td>0.178415</td>\n",
       "      <td>0.067781</td>\n",
       "      <td>0.057673</td>\n",
       "      <td>0.096051</td>\n",
       "      <td>-0.039766</td>\n",
       "      <td>-0.016668</td>\n",
       "      <td>...</td>\n",
       "      <td>-0.010256</td>\n",
       "      <td>-0.003519</td>\n",
       "      <td>-0.028471</td>\n",
       "      <td>0.137509</td>\n",
       "      <td>-0.012584</td>\n",
       "      <td>0.032431</td>\n",
       "      <td>1.000000</td>\n",
       "      <td>-0.038777</td>\n",
       "      <td>-0.005103</td>\n",
       "      <td>0.128950</td>\n",
       "    </tr>\n",
       "    <tr>\n",
       "      <th>Links_pointing_to_page</th>\n",
       "      <td>-0.339065</td>\n",
       "      <td>-0.022987</td>\n",
       "      <td>-0.198410</td>\n",
       "      <td>-0.006080</td>\n",
       "      <td>-0.194165</td>\n",
       "      <td>0.067423</td>\n",
       "      <td>-0.010526</td>\n",
       "      <td>-0.011710</td>\n",
       "      <td>0.122672</td>\n",
       "      <td>-0.127243</td>\n",
       "      <td>...</td>\n",
       "      <td>-0.121325</td>\n",
       "      <td>-0.140824</td>\n",
       "      <td>0.040407</td>\n",
       "      <td>-0.318266</td>\n",
       "      <td>-0.019860</td>\n",
       "      <td>-0.028216</td>\n",
       "      <td>-0.038777</td>\n",
       "      <td>1.000000</td>\n",
       "      <td>-0.016817</td>\n",
       "      <td>0.032574</td>\n",
       "    </tr>\n",
       "    <tr>\n",
       "      <th>Statistical_report</th>\n",
       "      <td>-0.019103</td>\n",
       "      <td>-0.067153</td>\n",
       "      <td>0.085461</td>\n",
       "      <td>-0.080357</td>\n",
       "      <td>0.070390</td>\n",
       "      <td>-0.002763</td>\n",
       "      <td>0.081627</td>\n",
       "      <td>0.063411</td>\n",
       "      <td>-0.002212</td>\n",
       "      <td>0.300917</td>\n",
       "      <td>...</td>\n",
       "      <td>0.285261</td>\n",
       "      <td>0.268418</td>\n",
       "      <td>0.009115</td>\n",
       "      <td>0.136860</td>\n",
       "      <td>0.009223</td>\n",
       "      <td>0.031049</td>\n",
       "      <td>-0.005103</td>\n",
       "      <td>-0.016817</td>\n",
       "      <td>1.000000</td>\n",
       "      <td>0.079857</td>\n",
       "    </tr>\n",
       "    <tr>\n",
       "      <th>Result</th>\n",
       "      <td>0.094160</td>\n",
       "      <td>0.057430</td>\n",
       "      <td>-0.067966</td>\n",
       "      <td>0.052948</td>\n",
       "      <td>-0.038608</td>\n",
       "      <td>0.348606</td>\n",
       "      <td>0.298323</td>\n",
       "      <td>0.714741</td>\n",
       "      <td>-0.225789</td>\n",
       "      <td>-0.000280</td>\n",
       "      <td>...</td>\n",
       "      <td>0.000086</td>\n",
       "      <td>-0.003394</td>\n",
       "      <td>0.121496</td>\n",
       "      <td>0.075718</td>\n",
       "      <td>0.346103</td>\n",
       "      <td>0.104645</td>\n",
       "      <td>0.128950</td>\n",
       "      <td>0.032574</td>\n",
       "      <td>0.079857</td>\n",
       "      <td>1.000000</td>\n",
       "    </tr>\n",
       "  </tbody>\n",
       "</table>\n",
       "<p>31 rows × 31 columns</p>\n",
       "</div>"
      ],
      "text/plain": [
       "                             having_IP_Address  URL_Length  \\\n",
       "having_IP_Address                     1.000000   -0.052411   \n",
       "URL_Length                           -0.052411    1.000000   \n",
       "Shortining_Service                    0.403461   -0.097881   \n",
       "having_At_Symbol                      0.158699   -0.075108   \n",
       "double_slash_redirecting              0.397389   -0.081247   \n",
       "Prefix_Suffix                        -0.005257    0.055247   \n",
       "having_Sub_Domain                    -0.080745    0.003997   \n",
       "SSLfinal_State                        0.071414    0.048754   \n",
       "Domain_registeration_length          -0.022739   -0.221892   \n",
       "Favicon                               0.087025   -0.042497   \n",
       "port                                  0.060979    0.000323   \n",
       "HTTPS_token                           0.363534   -0.089383   \n",
       "Request_URL                           0.029773    0.246348   \n",
       "URL_of_Anchor                         0.099847   -0.023396   \n",
       "Links_in_tags                         0.006212    0.052869   \n",
       "SFH                                  -0.010962    0.414196   \n",
       "Submitting_to_email                   0.077989   -0.014457   \n",
       "Abnormal_URL                          0.336549   -0.106761   \n",
       "Redirect                             -0.321181    0.046832   \n",
       "on_mouseover                          0.084059   -0.045103   \n",
       "RightClick                            0.042881   -0.013613   \n",
       "popUpWidnow                           0.096882   -0.049381   \n",
       "Iframe                                0.054694   -0.013838   \n",
       "age_of_domain                        -0.010446    0.179426   \n",
       "DNSRecord                            -0.050733   -0.040823   \n",
       "web_traffic                           0.002922    0.008993   \n",
       "Page_Rank                            -0.091774    0.183518   \n",
       "Google_Index                          0.029153    0.002902   \n",
       "Links_pointing_to_page               -0.339065   -0.022987   \n",
       "Statistical_report                   -0.019103   -0.067153   \n",
       "Result                                0.094160    0.057430   \n",
       "\n",
       "                             Shortining_Service  having_At_Symbol  \\\n",
       "having_IP_Address                      0.403461          0.158699   \n",
       "URL_Length                            -0.097881         -0.075108   \n",
       "Shortining_Service                     1.000000          0.104447   \n",
       "having_At_Symbol                       0.104447          1.000000   \n",
       "double_slash_redirecting               0.842796          0.086960   \n",
       "Prefix_Suffix                         -0.080471         -0.011726   \n",
       "having_Sub_Domain                     -0.041916         -0.058976   \n",
       "SSLfinal_State                        -0.061426          0.031220   \n",
       "Domain_registeration_length            0.060923          0.015522   \n",
       "Favicon                                0.006101          0.304899   \n",
       "port                                   0.002201          0.364891   \n",
       "HTTPS_token                            0.757838          0.104561   \n",
       "Request_URL                           -0.037235          0.027909   \n",
       "URL_of_Anchor                          0.000561          0.057914   \n",
       "Links_in_tags                         -0.133379         -0.070861   \n",
       "SFH                                   -0.022723         -0.008672   \n",
       "Submitting_to_email                    0.049328          0.370123   \n",
       "Abnormal_URL                           0.739290          0.203945   \n",
       "Redirect                              -0.534530         -0.028160   \n",
       "on_mouseover                           0.062383          0.279697   \n",
       "RightClick                             0.038118          0.219503   \n",
       "popUpWidnow                            0.036616          0.290893   \n",
       "Iframe                                 0.016581          0.284410   \n",
       "age_of_domain                         -0.052596         -0.005499   \n",
       "DNSRecord                              0.436064         -0.047872   \n",
       "web_traffic                           -0.047074          0.032918   \n",
       "Page_Rank                              0.014591         -0.064735   \n",
       "Google_Index                           0.155844          0.037061   \n",
       "Links_pointing_to_page                -0.198410         -0.006080   \n",
       "Statistical_report                     0.085461         -0.080357   \n",
       "Result                                -0.067966          0.052948   \n",
       "\n",
       "                             double_slash_redirecting  Prefix_Suffix  \\\n",
       "having_IP_Address                            0.397389      -0.005257   \n",
       "URL_Length                                  -0.081247       0.055247   \n",
       "Shortining_Service                           0.842796      -0.080471   \n",
       "having_At_Symbol                             0.086960      -0.011726   \n",
       "double_slash_redirecting                     1.000000      -0.085590   \n",
       "Prefix_Suffix                               -0.085590       1.000000   \n",
       "having_Sub_Domain                           -0.043079       0.087891   \n",
       "SSLfinal_State                              -0.036200       0.261391   \n",
       "Domain_registeration_length                  0.047464      -0.096799   \n",
       "Favicon                                      0.035100      -0.007504   \n",
       "port                                         0.025060      -0.022546   \n",
       "HTTPS_token                                  0.760799      -0.070153   \n",
       "Request_URL                                 -0.026368       0.098675   \n",
       "URL_of_Anchor                               -0.005036       0.348871   \n",
       "Links_in_tags                               -0.125583       0.100254   \n",
       "SFH                                         -0.041672       0.001326   \n",
       "Submitting_to_email                          0.031898      -0.045000   \n",
       "Abnormal_URL                                 0.723724      -0.077620   \n",
       "Redirect                                    -0.591478       0.016271   \n",
       "on_mouseover                                 0.086635       0.012578   \n",
       "RightClick                                   0.025863      -0.024868   \n",
       "popUpWidnow                                  0.054463      -0.014733   \n",
       "Iframe                                       0.010459      -0.036904   \n",
       "age_of_domain                               -0.050107       0.074116   \n",
       "DNSRecord                                    0.431409      -0.016556   \n",
       "web_traffic                                 -0.062369       0.110598   \n",
       "Page_Rank                                   -0.003132      -0.006834   \n",
       "Google_Index                                 0.178415       0.067781   \n",
       "Links_pointing_to_page                      -0.194165       0.067423   \n",
       "Statistical_report                           0.070390      -0.002763   \n",
       "Result                                      -0.038608       0.348606   \n",
       "\n",
       "                             having_Sub_Domain  SSLfinal_State  \\\n",
       "having_IP_Address                    -0.080745        0.071414   \n",
       "URL_Length                            0.003997        0.048754   \n",
       "Shortining_Service                   -0.041916       -0.061426   \n",
       "having_At_Symbol                     -0.058976        0.031220   \n",
       "double_slash_redirecting             -0.043079       -0.036200   \n",
       "Prefix_Suffix                         0.087891        0.261391   \n",
       "having_Sub_Domain                     1.000000        0.267649   \n",
       "SSLfinal_State                        0.267649        1.000000   \n",
       "Domain_registeration_length          -0.082839       -0.193622   \n",
       "Favicon                              -0.016704       -0.014757   \n",
       "port                                  0.004863        0.027473   \n",
       "HTTPS_token                          -0.037239       -0.029941   \n",
       "Request_URL                           0.104857        0.193054   \n",
       "URL_of_Anchor                         0.229491        0.535786   \n",
       "Links_in_tags                         0.093646        0.176825   \n",
       "SFH                                   0.096089        0.171402   \n",
       "Submitting_to_email                   0.008830        0.008062   \n",
       "Abnormal_URL                         -0.034908       -0.046245   \n",
       "Redirect                              0.031206       -0.021070   \n",
       "on_mouseover                         -0.018082        0.023586   \n",
       "RightClick                            0.018230        0.015854   \n",
       "popUpWidnow                          -0.025312       -0.013005   \n",
       "Iframe                                0.010637       -0.002773   \n",
       "age_of_domain                         0.119254        0.162809   \n",
       "DNSRecord                             0.125493        0.050972   \n",
       "web_traffic                          -0.005764        0.258768   \n",
       "Page_Rank                             0.120730        0.074545   \n",
       "Google_Index                          0.057673        0.096051   \n",
       "Links_pointing_to_page               -0.010526       -0.011710   \n",
       "Statistical_report                    0.081627        0.063411   \n",
       "Result                                0.298323        0.714741   \n",
       "\n",
       "                             Domain_registeration_length   Favicon    ...     \\\n",
       "having_IP_Address                              -0.022739  0.087025    ...      \n",
       "URL_Length                                     -0.221892 -0.042497    ...      \n",
       "Shortining_Service                              0.060923  0.006101    ...      \n",
       "having_At_Symbol                                0.015522  0.304899    ...      \n",
       "double_slash_redirecting                        0.047464  0.035100    ...      \n",
       "Prefix_Suffix                                  -0.096799 -0.007504    ...      \n",
       "having_Sub_Domain                              -0.082839 -0.016704    ...      \n",
       "SSLfinal_State                                 -0.193622 -0.014757    ...      \n",
       "Domain_registeration_length                     1.000000  0.054253    ...      \n",
       "Favicon                                         0.054253  1.000000    ...      \n",
       "port                                            0.022478  0.803834    ...      \n",
       "HTTPS_token                                     0.059161  0.049483    ...      \n",
       "Request_URL                                    -0.609970 -0.004620    ...      \n",
       "URL_of_Anchor                                  -0.160257  0.037698    ...      \n",
       "Links_in_tags                                  -0.101084 -0.100341    ...      \n",
       "SFH                                            -0.136422 -0.012279    ...      \n",
       "Submitting_to_email                             0.039260  0.668317    ...      \n",
       "Abnormal_URL                                    0.058109  0.071848    ...      \n",
       "Redirect                                       -0.016300 -0.015621    ...      \n",
       "on_mouseover                                    0.023784  0.706179    ...      \n",
       "RightClick                                      0.023520  0.414382    ...      \n",
       "popUpWidnow                                     0.051410  0.939633    ...      \n",
       "Iframe                                          0.004393  0.627607    ...      \n",
       "age_of_domain                                  -0.062851 -0.002628    ...      \n",
       "DNSRecord                                      -0.010477  0.088211    ...      \n",
       "web_traffic                                    -0.134454 -0.050922    ...      \n",
       "Page_Rank                                      -0.059898  0.011699    ...      \n",
       "Google_Index                                   -0.039766 -0.016668    ...      \n",
       "Links_pointing_to_page                          0.122672 -0.127243    ...      \n",
       "Statistical_report                             -0.002212  0.300917    ...      \n",
       "Result                                         -0.225789 -0.000280    ...      \n",
       "\n",
       "                             popUpWidnow    Iframe  age_of_domain  DNSRecord  \\\n",
       "having_IP_Address               0.096882  0.054694      -0.010446  -0.050733   \n",
       "URL_Length                     -0.049381 -0.013838       0.179426  -0.040823   \n",
       "Shortining_Service              0.036616  0.016581      -0.052596   0.436064   \n",
       "having_At_Symbol                0.290893  0.284410      -0.005499  -0.047872   \n",
       "double_slash_redirecting        0.054463  0.010459      -0.050107   0.431409   \n",
       "Prefix_Suffix                  -0.014733 -0.036904       0.074116  -0.016556   \n",
       "having_Sub_Domain              -0.025312  0.010637       0.119254   0.125493   \n",
       "SSLfinal_State                 -0.013005 -0.002773       0.162809   0.050972   \n",
       "Domain_registeration_length     0.051410  0.004393      -0.062851  -0.010477   \n",
       "Favicon                         0.939633  0.627607      -0.002628   0.088211   \n",
       "port                            0.748517  0.687044       0.008459   0.054849   \n",
       "HTTPS_token                     0.066957  0.017509      -0.049632   0.395387   \n",
       "Request_URL                    -0.004622  0.016934       0.090455   0.015933   \n",
       "URL_of_Anchor                   0.041150  0.013403       0.075508   0.093288   \n",
       "Links_in_tags                  -0.112282 -0.070030       0.078057  -0.038545   \n",
       "SFH                            -0.004863  0.007067      -0.015840   0.034440   \n",
       "Submitting_to_email             0.629462  0.577490       0.007357   0.064145   \n",
       "Abnormal_URL                    0.091188  0.017590      -0.032533   0.366833   \n",
       "Redirect                       -0.026327 -0.012668      -0.022476  -0.211096   \n",
       "on_mouseover                    0.733629  0.659478       0.013306   0.087161   \n",
       "RightClick                      0.415268  0.655863       0.006764   0.038255   \n",
       "popUpWidnow                     1.000000  0.629406      -0.000948   0.098658   \n",
       "Iframe                          0.629406  1.000000       0.018848   0.047293   \n",
       "age_of_domain                  -0.000948  0.018848       1.000000  -0.034082   \n",
       "DNSRecord                       0.098658  0.047293      -0.034082   1.000000   \n",
       "web_traffic                    -0.043190 -0.022080       0.089949   0.048650   \n",
       "Page_Rank                       0.017114  0.022407      -0.147194   0.137860   \n",
       "Google_Index                   -0.010256 -0.003519      -0.028471   0.137509   \n",
       "Links_pointing_to_page         -0.121325 -0.140824       0.040407  -0.318266   \n",
       "Statistical_report              0.285261  0.268418       0.009115   0.136860   \n",
       "Result                          0.000086 -0.003394       0.121496   0.075718   \n",
       "\n",
       "                             web_traffic  Page_Rank  Google_Index  \\\n",
       "having_IP_Address               0.002922  -0.091774      0.029153   \n",
       "URL_Length                      0.008993   0.183518      0.002902   \n",
       "Shortining_Service             -0.047074   0.014591      0.155844   \n",
       "having_At_Symbol                0.032918  -0.064735      0.037061   \n",
       "double_slash_redirecting       -0.062369  -0.003132      0.178415   \n",
       "Prefix_Suffix                   0.110598  -0.006834      0.067781   \n",
       "having_Sub_Domain              -0.005764   0.120730      0.057673   \n",
       "SSLfinal_State                  0.258768   0.074545      0.096051   \n",
       "Domain_registeration_length    -0.134454  -0.059898     -0.039766   \n",
       "Favicon                        -0.050922   0.011699     -0.016668   \n",
       "port                           -0.028543   0.017954     -0.005413   \n",
       "HTTPS_token                    -0.039708   0.021104      0.115450   \n",
       "Request_URL                     0.161166   0.055734      0.046409   \n",
       "URL_of_Anchor                   0.326293   0.099261      0.038816   \n",
       "Links_in_tags                   0.064548  -0.006450      0.045557   \n",
       "SFH                             0.052706   0.001979      0.027588   \n",
       "Submitting_to_email            -0.015685   0.026208     -0.008378   \n",
       "Abnormal_URL                   -0.052416   0.007318      0.124751   \n",
       "Redirect                        0.004631   0.052867      0.057230   \n",
       "on_mouseover                   -0.036531   0.015634     -0.006510   \n",
       "RightClick                     -0.013594   0.025341     -0.008066   \n",
       "popUpWidnow                    -0.043190   0.017114     -0.010256   \n",
       "Iframe                         -0.022080   0.022407     -0.003519   \n",
       "age_of_domain                   0.089949  -0.147194     -0.028471   \n",
       "DNSRecord                       0.048650   0.137860      0.137509   \n",
       "web_traffic                     1.000000   0.030984     -0.012584   \n",
       "Page_Rank                       0.030984   1.000000      0.032431   \n",
       "Google_Index                   -0.012584   0.032431      1.000000   \n",
       "Links_pointing_to_page         -0.019860  -0.028216     -0.038777   \n",
       "Statistical_report              0.009223   0.031049     -0.005103   \n",
       "Result                          0.346103   0.104645      0.128950   \n",
       "\n",
       "                             Links_pointing_to_page  Statistical_report  \\\n",
       "having_IP_Address                         -0.339065           -0.019103   \n",
       "URL_Length                                -0.022987           -0.067153   \n",
       "Shortining_Service                        -0.198410            0.085461   \n",
       "having_At_Symbol                          -0.006080           -0.080357   \n",
       "double_slash_redirecting                  -0.194165            0.070390   \n",
       "Prefix_Suffix                              0.067423           -0.002763   \n",
       "having_Sub_Domain                         -0.010526            0.081627   \n",
       "SSLfinal_State                            -0.011710            0.063411   \n",
       "Domain_registeration_length                0.122672           -0.002212   \n",
       "Favicon                                   -0.127243            0.300917   \n",
       "port                                      -0.139104            0.343987   \n",
       "HTTPS_token                               -0.128724            0.096187   \n",
       "Request_URL                               -0.067109            0.035412   \n",
       "URL_of_Anchor                              0.018651            0.077377   \n",
       "Links_in_tags                              0.013561           -0.087343   \n",
       "SFH                                       -0.009068           -0.005289   \n",
       "Submitting_to_email                       -0.039956            0.352074   \n",
       "Abnormal_URL                              -0.161027            0.186399   \n",
       "Redirect                                   0.161278           -0.059194   \n",
       "on_mouseover                              -0.038551            0.277347   \n",
       "RightClick                                -0.119831            0.204409   \n",
       "popUpWidnow                               -0.121325            0.285261   \n",
       "Iframe                                    -0.140824            0.268418   \n",
       "age_of_domain                              0.040407            0.009115   \n",
       "DNSRecord                                 -0.318266            0.136860   \n",
       "web_traffic                               -0.019860            0.009223   \n",
       "Page_Rank                                 -0.028216            0.031049   \n",
       "Google_Index                              -0.038777           -0.005103   \n",
       "Links_pointing_to_page                     1.000000           -0.016817   \n",
       "Statistical_report                        -0.016817            1.000000   \n",
       "Result                                     0.032574            0.079857   \n",
       "\n",
       "                               Result  \n",
       "having_IP_Address            0.094160  \n",
       "URL_Length                   0.057430  \n",
       "Shortining_Service          -0.067966  \n",
       "having_At_Symbol             0.052948  \n",
       "double_slash_redirecting    -0.038608  \n",
       "Prefix_Suffix                0.348606  \n",
       "having_Sub_Domain            0.298323  \n",
       "SSLfinal_State               0.714741  \n",
       "Domain_registeration_length -0.225789  \n",
       "Favicon                     -0.000280  \n",
       "port                         0.036419  \n",
       "HTTPS_token                 -0.039854  \n",
       "Request_URL                  0.253372  \n",
       "URL_of_Anchor                0.692935  \n",
       "Links_in_tags                0.248229  \n",
       "SFH                          0.221419  \n",
       "Submitting_to_email          0.018249  \n",
       "Abnormal_URL                -0.060488  \n",
       "Redirect                    -0.020113  \n",
       "on_mouseover                 0.041838  \n",
       "RightClick                   0.012653  \n",
       "popUpWidnow                  0.000086  \n",
       "Iframe                      -0.003394  \n",
       "age_of_domain                0.121496  \n",
       "DNSRecord                    0.075718  \n",
       "web_traffic                  0.346103  \n",
       "Page_Rank                    0.104645  \n",
       "Google_Index                 0.128950  \n",
       "Links_pointing_to_page       0.032574  \n",
       "Statistical_report           0.079857  \n",
       "Result                       1.000000  \n",
       "\n",
       "[31 rows x 31 columns]"
      ]
     },
     "execution_count": 16,
     "metadata": {},
     "output_type": "execute_result"
    }
   ],
   "source": [
    "# Let's look at the correlation matric of our DataFrame. This will show us the linear correlation coefficient for\n",
    "# every single variable against every other variable\n",
    "\n",
    "phishing.corr()"
   ]
  },
  {
   "cell_type": "code",
   "execution_count": 17,
   "metadata": {},
   "outputs": [
    {
     "data": {
      "text/plain": [
       "<matplotlib.axes._subplots.AxesSubplot at 0x1135dac10>"
      ]
     },
     "execution_count": 17,
     "metadata": {},
     "output_type": "execute_result"
    },
    {
     "data": {
      "image/png": "[encoded data removed]",
      "text/plain": [
       "<matplotlib.figure.Figure at 0x1135da590>"
      ]
     },
     "metadata": {},
     "output_type": "display_data"
    }
   ],
   "source": [
    "# Let's look at our correlation matrix as a more visual heatmap, it will be smaller and more easily digestible\n",
    "\n",
    "import seaborn as sns\n",
    "%matplotlib inline\n",
    "sns.heatmap(phishing.corr())"
   ]
  },
  {
   "cell_type": "code",
   "execution_count": 18,
   "metadata": {},
   "outputs": [
    {
     "data": {
      "text/html": [
       "<div>\n",
       "<style>\n",
       "    .dataframe thead tr:only-child th {\n",
       "        text-align: right;\n",
       "    }\n",
       "\n",
       "    .dataframe thead th {\n",
       "        text-align: left;\n",
       "    }\n",
       "\n",
       "    .dataframe tbody tr th {\n",
       "        vertical-align: top;\n",
       "    }\n",
       "</style>\n",
       "<table border=\"1\" class=\"dataframe\">\n",
       "  <thead>\n",
       "    <tr style=\"text-align: right;\">\n",
       "      <th></th>\n",
       "      <th>Domain_registeration_length</th>\n",
       "      <th>Result</th>\n",
       "    </tr>\n",
       "  </thead>\n",
       "  <tbody>\n",
       "    <tr>\n",
       "      <th>Domain_registeration_length</th>\n",
       "      <td>1.000000</td>\n",
       "      <td>-0.225789</td>\n",
       "    </tr>\n",
       "    <tr>\n",
       "      <th>Result</th>\n",
       "      <td>-0.225789</td>\n",
       "      <td>1.000000</td>\n",
       "    </tr>\n",
       "  </tbody>\n",
       "</table>\n",
       "</div>"
      ],
      "text/plain": [
       "                             Domain_registeration_length    Result\n",
       "Domain_registeration_length                     1.000000 -0.225789\n",
       "Result                                         -0.225789  1.000000"
      ]
     },
     "execution_count": 18,
     "metadata": {},
     "output_type": "execute_result"
    }
   ],
   "source": [
    "# Upon quick look, it seems that Domain_registeration_length seems to be important\n",
    "\n",
    "phishing[['Domain_registeration_length', 'Result']].corr()"
   ]
  },
  {
   "cell_type": "code",
   "execution_count": 19,
   "metadata": {},
   "outputs": [
    {
     "name": "stdout",
     "output_type": "stream",
     "text": [
      "0.63594532413\n"
     ]
    }
   ],
   "source": [
    "num_phishing = phishing[phishing['Result']==1].shape[0]\n",
    "num_phishing_and_short_domain = phishing[(phishing['Result']==1) & (phishing['Domain_registeration_length']==-1)].shape[0]\n",
    "num_short_domain = phishing[phishing['Domain_registeration_length']==-1].shape[0]\n",
    "print num_phishing_and_short_domain/float(num_short_domain)\n",
    "\n",
    "# 63.5% of sites with a short domain registration are phishing"
   ]
  },
  {
   "cell_type": "markdown",
   "metadata": {
    "collapsed": true
   },
   "source": [
    "[Machine Learning Slides](slides/ml_knn.pdf)"
   ]
  },
  {
   "cell_type": "code",
   "execution_count": 20,
   "metadata": {},
   "outputs": [
    {
     "name": "stdout",
     "output_type": "stream",
     "text": [
      "(11055, 30)\n",
      "(11055,)\n"
     ]
    }
   ],
   "source": [
    "# create X (features) and y (response)\n",
    "# the .drop method removes a specific column\n",
    "X, y = phishing.drop('Result', axis = 1), phishing['Result']\n",
    "# So I am dropping the \"Result\" column\n",
    "print X.shape\n",
    "print y.shape"
   ]
  },
  {
   "cell_type": "code",
   "execution_count": 21,
   "metadata": {},
   "outputs": [
    {
     "data": {
      "text/plain": [
       " 1    0.556943\n",
       "-1    0.443057\n",
       "Name: Result, dtype: float64"
      ]
     },
     "execution_count": 21,
     "metadata": {},
     "output_type": "execute_result"
    }
   ],
   "source": [
    "# In Machine Learning, the base level of ascertaining how well we are doing is by comparing model performance to the \n",
    "# \"Null Model\". The Null Model represents the simplest level of guessing, in a classification problem\n",
    "# The null model will simply predict the most common response, we can find this by using the value_counts method\n",
    "# with an optional parameter\n",
    "\n",
    "phishing['Result'].value_counts(normalize=True)\n",
    "\n",
    "# So our null accuracy is .557, so if we just guessed \"Yes\" for phishing, we would be correct 55.7% of the time"
   ]
  },
  {
   "cell_type": "code",
   "execution_count": null,
   "metadata": {
    "collapsed": true
   },
   "outputs": [],
   "source": []
  },
  {
   "cell_type": "code",
   "execution_count": 22,
   "metadata": {
    "collapsed": true
   },
   "outputs": [],
   "source": [
    "# predict y with KNN\n",
    "from sklearn.neighbors import KNeighborsClassifier  # import class\n",
    "# http://scikit-learn.org/stable/modules/generated/sklearn.neighbors.KNeighborsClassifier.html"
   ]
  },
  {
   "cell_type": "code",
   "execution_count": 23,
   "metadata": {
    "collapsed": true
   },
   "outputs": [],
   "source": [
    "knn = KNeighborsClassifier(n_neighbors=3)           # instantiate the estimator"
   ]
  },
  {
   "cell_type": "code",
   "execution_count": 24,
   "metadata": {},
   "outputs": [
    {
     "data": {
      "text/plain": [
       "KNeighborsClassifier(algorithm='auto', leaf_size=30, metric='minkowski',\n",
       "           metric_params=None, n_jobs=1, n_neighbors=3, p=2,\n",
       "           weights='uniform')"
      ]
     },
     "execution_count": 24,
     "metadata": {},
     "output_type": "execute_result"
    }
   ],
   "source": [
    "knn.fit(X, y)                                       # fit with data"
   ]
  },
  {
   "cell_type": "code",
   "execution_count": 25,
   "metadata": {},
   "outputs": [
    {
     "data": {
      "text/plain": [
       "0.97602894617819991"
      ]
     },
     "execution_count": 25,
     "metadata": {},
     "output_type": "execute_result"
    }
   ],
   "source": [
    "# use the models .score method to get accuracy (later classes we will see alternate metrics)\n",
    "knn.score(X, y)\n",
    "\n",
    "# Definitely better than our null accuracy"
   ]
  },
  {
   "cell_type": "code",
   "execution_count": 26,
   "metadata": {},
   "outputs": [
    {
     "name": "stderr",
     "output_type": "stream",
     "text": [
      "/Users/sinanozdemir/Desktop/blackhat-vegas-ml/bh-env/lib/python2.7/site-packages/sklearn/utils/validation.py:395: DeprecationWarning: Passing 1d arrays as data is deprecated in 0.17 and will raise ValueError in 0.19. Reshape your data either using X.reshape(-1, 1) if your data has a single feature or X.reshape(1, -1) if it contains a single sample.\n",
      "  DeprecationWarning)\n"
     ]
    },
    {
     "data": {
      "text/plain": [
       "array([-1])"
      ]
     },
     "execution_count": 26,
     "metadata": {},
     "output_type": "execute_result"
    }
   ],
   "source": [
    "# predict a single observation, the first row of X\n",
    "knn.predict(X.iloc[0])"
   ]
  },
  {
   "cell_type": "code",
   "execution_count": 27,
   "metadata": {},
   "outputs": [
    {
     "data": {
      "text/plain": [
       "0.96671189507010402"
      ]
     },
     "execution_count": 27,
     "metadata": {},
     "output_type": "execute_result"
    }
   ],
   "source": [
    "# compute the accuracy for K=5\n",
    "# K = 5\n",
    "knn = KNeighborsClassifier(n_neighbors=5)\n",
    "knn.fit(X, y)\n",
    "# the score function will return the accuracy of your prediction\n",
    "# the number of correct prepdictions / the number of rows\n",
    "knn.score(X, y)"
   ]
  },
  {
   "cell_type": "code",
   "execution_count": 28,
   "metadata": {},
   "outputs": [
    {
     "name": "stdout",
     "output_type": "stream",
     "text": [
      "having_IP_Address 0.437720488467\n",
      "URL_Length 0.443057440072\n",
      "Shortining_Service 0.480687471732\n",
      "having_At_Symbol 0.441338760742\n",
      "double_slash_redirecting 0.556942559928\n",
      "Prefix_Suffix 0.575576662144\n",
      "having_Sub_Domain 0.636725463591\n",
      "SSLfinal_State 0.888919041158\n",
      "Domain_registeration_length 0.443057440072\n",
      "Favicon 0.535685210312\n",
      "port 0.446132971506\n",
      "HTTPS_token 0.476164631389\n",
      "Request_URL 0.634283129806\n",
      "URL_of_Anchor 0.847308909995\n",
      "Links_in_tags 0.544007236545\n",
      "SFH 0.556942559928\n",
      "Submitting_to_email 0.443057440072\n",
      "Abnormal_URL 0.556942559928\n",
      "Redirect 0.449841700588\n",
      "on_mouseover 0.556942559928\n",
      "RightClick 0.556942559928\n",
      "popUpWidnow 0.556942559928\n",
      "Iframe 0.556942559928\n",
      "age_of_domain 0.563726820443\n",
      "DNSRecord 0.556942559928\n",
      "web_traffic 0.697874265038\n",
      "Page_Rank 0.556942559928\n",
      "Google_Index 0.443057440072\n",
      "Links_pointing_to_page 0.457711442786\n",
      "Statistical_report 0.556942559928\n"
     ]
    }
   ],
   "source": [
    "# for each column, use only that column to try and predict class\n",
    "# This is called iterative feature selection\n",
    "\n",
    "for column in X.columns:  # for each column\n",
    "    X_subset = X[[column]]  # subset the dataframe\n",
    "    knn = KNeighborsClassifier(n_neighbors=3)  # instantaiate a KNN\n",
    "    knn.fit(X_subset, y)  # fit the model\n",
    "    print column, knn.score(X_subset, y)"
   ]
  },
  {
   "cell_type": "code",
   "execution_count": 29,
   "metadata": {},
   "outputs": [
    {
     "name": "stdout",
     "output_type": "stream",
     "text": [
      "0.976028946178\n",
      "CPU times: user 3.17 s, sys: 20.6 ms, total: 3.19 s\n",
      "Wall time: 3.24 s\n"
     ]
    }
   ],
   "source": [
    "%%time\n",
    "# Let's time our KNNs using a magical %%time command\n",
    "knn = KNeighborsClassifier(n_neighbors=3)\n",
    "knn.fit(X, y)\n",
    "print knn.score(X, y)"
   ]
  },
  {
   "cell_type": "code",
   "execution_count": 30,
   "metadata": {},
   "outputs": [
    {
     "name": "stdout",
     "output_type": "stream",
     "text": [
      "0.923925825418\n",
      "CPU times: user 205 ms, sys: 2.12 ms, total: 207 ms\n",
      "Wall time: 208 ms\n"
     ]
    }
   ],
   "source": [
    "%%time\n",
    "knn = KNeighborsClassifier(n_neighbors=3)\n",
    "X_subset = X[['having_Sub_Domain', 'SSLfinal_State', 'web_traffic', 'URL_of_Anchor', 'Request_URL']] # using only \"important features\"\n",
    "knn.fit(X_subset, y)\n",
    "print knn.score(X_subset, y)"
   ]
  },
  {
   "cell_type": "code",
   "execution_count": 31,
   "metadata": {
    "collapsed": true
   },
   "outputs": [],
   "source": [
    "# So only using 5 features dropped our accuracy by 5% BUT the time to run everything got 15x faster"
   ]
  },
  {
   "cell_type": "code",
   "execution_count": 32,
   "metadata": {
    "collapsed": true
   },
   "outputs": [],
   "source": [
    "# You should normalize (scale) data when the scale of a column feature is \n",
    "# either irrelevant and/or misleading. \n",
    "# You should NOT normalize when the scale is meaningful.\n",
    "\n",
    "# KNN uses the Euclidean distance and considers it meaningful. \n",
    "# scaling our data is likely important..\n",
    "from sklearn.preprocessing import StandardScaler"
   ]
  },
  {
   "cell_type": "code",
   "execution_count": null,
   "metadata": {
    "collapsed": true
   },
   "outputs": [],
   "source": []
  },
  {
   "cell_type": "code",
   "execution_count": 33,
   "metadata": {},
   "outputs": [
    {
     "data": {
      "text/plain": [
       "0.97602894617819991"
      ]
     },
     "execution_count": 33,
     "metadata": {},
     "output_type": "execute_result"
    }
   ],
   "source": [
    "# not scaled\n",
    "knn = KNeighborsClassifier(n_neighbors=3)\n",
    "knn.fit(X, y)\n",
    "knn.score(X, y)"
   ]
  },
  {
   "cell_type": "code",
   "execution_count": 34,
   "metadata": {},
   "outputs": [
    {
     "data": {
      "text/plain": [
       "0.97874265038444141"
      ]
     },
     "execution_count": 34,
     "metadata": {},
     "output_type": "execute_result"
    }
   ],
   "source": [
    "# scaled\n",
    "s = StandardScaler()\n",
    "X_scaled = s.fit_transform(X)\n",
    "knn = KNeighborsClassifier(n_neighbors=3)\n",
    "knn.fit(X_scaled, y)\n",
    "knn.score(X_scaled, y)"
   ]
  },
  {
   "cell_type": "code",
   "execution_count": 35,
   "metadata": {
    "collapsed": true
   },
   "outputs": [],
   "source": [
    "# It got slightly better! But this is an important note. We got a better result by transforming our DATA\n",
    "# and not by changing our model"
   ]
  },
  {
   "cell_type": "code",
   "execution_count": 36,
   "metadata": {},
   "outputs": [
    {
     "data": {
      "text/plain": [
       "<matplotlib.collections.PathCollection at 0x114aa4c10>"
      ]
     },
     "execution_count": 36,
     "metadata": {},
     "output_type": "execute_result"
    },
    {
     "data": {
      "image/png": "[encoded data removed]",
      "text/plain": [
       "<matplotlib.figure.Figure at 0x1138258d0>"
      ]
     },
     "metadata": {},
     "output_type": "display_data"
    }
   ],
   "source": [
    "# KNN is a discriminative, non-parametric model\n",
    "\n",
    "# discriminative: It attempts to model the conditional \n",
    "# probability between the response and the features\n",
    "\n",
    "\n",
    "# non-parametric: KNN model makes no assumptions \n",
    "# about the shape of the underlying data, it is able to model\n",
    "# data in funky shapes\n",
    "\n",
    "from sklearn.datasets import make_circles\n",
    "circles_X, circles_y = make_circles(n_samples=1000, random_state=123, noise=0.1, factor=0.2)\n",
    "plt.scatter(circles_X[:,0], circles_X[:,1])"
   ]
  },
  {
   "cell_type": "code",
   "execution_count": 37,
   "metadata": {},
   "outputs": [
    {
     "data": {
      "image/png": "[encoded data removed]",
      "text/plain": [
       "<matplotlib.figure.Figure at 0x11423b090>"
      ]
     },
     "metadata": {},
     "output_type": "display_data"
    },
    {
     "data": {
      "image/png": "[encoded data removed]",
      "text/plain": [
       "<matplotlib.figure.Figure at 0x114f17a90>"
      ]
     },
     "metadata": {},
     "output_type": "display_data"
    },
    {
     "data": {
      "image/png": "[encoded data removed]",
      "text/plain": [
       "<matplotlib.figure.Figure at 0x111357ed0>"
      ]
     },
     "metadata": {},
     "output_type": "display_data"
    },
    {
     "data": {
      "image/png": "[encoded data removed]",
      "text/plain": [
       "<matplotlib.figure.Figure at 0x11144a610>"
      ]
     },
     "metadata": {},
     "output_type": "display_data"
    },
    {
     "data": {
      "image/png": "[encoded data removed]",
      "text/plain": [
       "<matplotlib.figure.Figure at 0x11146c590>"
      ]
     },
     "metadata": {},
     "output_type": "display_data"
    }
   ],
   "source": [
    "from matplotlib.colors import ListedColormap\n",
    "\n",
    "for n_neighbors in range(1,10, 2):\n",
    "    h = .02  # step size in the mesh\n",
    "\n",
    "    # Create color maps\n",
    "    cmap_light = ListedColormap(['#FFAAAA', '#AAFFAA', '#AAAAFF'])\n",
    "    cmap_bold = ListedColormap(['#FF0000', '#00FF00', '#0000FF'])\n",
    "\n",
    "    # we create an instance of Neighbours Classifier and fit the data.\n",
    "    clf = KNeighborsClassifier(n_neighbors)\n",
    "    clf.fit(circles_X, circles_y)\n",
    "\n",
    "    # Plot the decision boundary. For that, we will assign a color to each\n",
    "    # point in the mesh [x_min, m_max]x[y_min, y_max].\n",
    "    x_min, x_max = circles_X[:, 0].min() - 1, circles_X[:, 0].max() + 1\n",
    "    y_min, y_max = circles_X[:, 1].min() - 1, circles_X[:, 1].max() + 1\n",
    "    xx, yy = np.meshgrid(np.arange(x_min, x_max, h),\n",
    "                         np.arange(y_min, y_max, h))\n",
    "    Z = clf.predict(np.c_[xx.ravel(), yy.ravel()])\n",
    "\n",
    "    # Put the result into a color plot\n",
    "    Z = Z.reshape(xx.shape)\n",
    "    plt.figure()\n",
    "    plt.pcolormesh(xx, yy, Z, cmap=cmap_light)\n",
    "\n",
    "    # Plot also the training points\n",
    "    plt.scatter(circles_X[:, 0], circles_X[:, 1], c=circles_y, cmap=cmap_bold)\n",
    "    plt.xlim(xx.min(), xx.max())\n",
    "    plt.ylim(yy.min(), yy.max())\n",
    "    plt.title(\"Circle classification (k = %i)\"\n",
    "              % (n_neighbors))\n",
    "\n",
    "plt.show()"
   ]
  },
  {
   "cell_type": "code",
   "execution_count": 38,
   "metadata": {},
   "outputs": [
    {
     "data": {
      "text/plain": [
       "[0.98652193577566716,\n",
       " 0.979194934418815,\n",
       " 0.97602894617819991,\n",
       " 0.96716417910447761,\n",
       " 0.96671189507010402,\n",
       " 0.96336499321573943,\n",
       " 0.96001809136137495,\n",
       " 0.95522388059701491,\n",
       " 0.95278154681139759,\n",
       " 0.9522388059701492,\n",
       " 0.95088195386702845,\n",
       " 0.95024875621890548,\n",
       " 0.95214834916327451,\n",
       " 0.94925373134328361,\n",
       " 0.94717322478516508,\n",
       " 0.94771596562641336,\n",
       " 0.9466304839439168,\n",
       " 0.94545454545454544,\n",
       " 0.9433740388964269,\n",
       " 0.94237901402080504,\n",
       " 0.94192672998643145,\n",
       " 0.94011759384893712,\n",
       " 0.93830845771144278,\n",
       " 0.93885119855269106,\n",
       " 0.93622795115332424,\n",
       " 0.93677069199457264,\n",
       " 0.93441881501582991,\n",
       " 0.93405698778833102,\n",
       " 0.93306196291270915]"
      ]
     },
     "execution_count": 38,
     "metadata": {},
     "output_type": "execute_result"
    }
   ],
   "source": [
    "# Let's graph the accuracy of a few values of K\n",
    "# WARNING, SLOW\n",
    "\n",
    "accuracy_scores = []\n",
    "for i in range(1, 30):\n",
    "    knn = KNeighborsClassifier(n_neighbors=i)\n",
    "    knn.fit(X, y)\n",
    "    accuracy_scores.append(knn.score(X, y))\n",
    "    \n",
    "accuracy_scores"
   ]
  },
  {
   "cell_type": "code",
   "execution_count": 39,
   "metadata": {},
   "outputs": [
    {
     "data": {
      "text/plain": [
       "<matplotlib.text.Text at 0x113c637d0>"
      ]
     },
     "execution_count": 39,
     "metadata": {},
     "output_type": "execute_result"
    },
    {
     "data": {
      "image/png": "[encoded data removed]",
      "text/plain": [
       "<matplotlib.figure.Figure at 0x114230ad0>"
      ]
     },
     "metadata": {},
     "output_type": "display_data"
    }
   ],
   "source": [
    "plt.plot(range(1,30), accuracy_scores)\n",
    "plt.ylabel(\"Accuracy\")\n",
    "plt.xlabel(\"K\")"
   ]
  },
  {
   "cell_type": "code",
   "execution_count": 40,
   "metadata": {},
   "outputs": [
    {
     "data": {
      "text/plain": [
       "0.98652193577566716"
      ]
     },
     "execution_count": 40,
     "metadata": {},
     "output_type": "execute_result"
    }
   ],
   "source": [
    "# K = 1 is very high but that is the \"simplest model\", odd... Why is this odd?\n",
    "# Also notice that as the model's complexity goes up, the accuracy almost consistently goes down, is that odd?\n",
    "knn = KNeighborsClassifier(n_neighbors=1)\n",
    "knn.fit(X, y)\n",
    "knn.score(X, y)"
   ]
  },
  {
   "cell_type": "code",
   "execution_count": null,
   "metadata": {
    "collapsed": true
   },
   "outputs": [],
   "source": []
  },
  {
   "cell_type": "markdown",
   "metadata": {},
   "source": [
    "[Train Test Split slides](slides/model_evaluation.pdf)"
   ]
  },
  {
   "cell_type": "code",
   "execution_count": null,
   "metadata": {
    "collapsed": true
   },
   "outputs": [],
   "source": []
  },
  {
   "cell_type": "code",
   "execution_count": 41,
   "metadata": {
    "collapsed": true
   },
   "outputs": [],
   "source": [
    "## TEST SET APPROACH\n",
    "\n",
    "# understanding train_test_split\n",
    "from sklearn.model_selection import train_test_split"
   ]
  },
  {
   "cell_type": "code",
   "execution_count": 42,
   "metadata": {
    "collapsed": true
   },
   "outputs": [],
   "source": [
    "# step 1: split data into training set and test set\n",
    "features_train, features_test, response_train, response_test = train_test_split(X, y, random_state=1)\n",
    "# the random_state allows us all to get the same random numbers"
   ]
  },
  {
   "cell_type": "code",
   "execution_count": 43,
   "metadata": {},
   "outputs": [
    {
     "data": {
      "text/plain": [
       "0.94681620839363245"
      ]
     },
     "execution_count": 43,
     "metadata": {},
     "output_type": "execute_result"
    }
   ],
   "source": [
    "# steps 5 and 6: choose best model (K=3) and train on all data\n",
    "knn = KNeighborsClassifier(n_neighbors=3)\n",
    "knn.fit(features_train, response_train)\n",
    "\n",
    "knn.score(features_test, response_test)"
   ]
  },
  {
   "cell_type": "code",
   "execution_count": 44,
   "metadata": {
    "collapsed": true
   },
   "outputs": [],
   "source": [
    "# Not as goot as the K=3 from before, but more honest.."
   ]
  },
  {
   "cell_type": "code",
   "execution_count": 45,
   "metadata": {},
   "outputs": [
    {
     "name": "stderr",
     "output_type": "stream",
     "text": [
      "/Users/sinanozdemir/Desktop/blackhat-vegas-ml/bh-env/lib/python2.7/site-packages/sklearn/cross_validation.py:44: DeprecationWarning: This module was deprecated in version 0.18 in favor of the model_selection module into which all the refactored classes and functions are moved. Also note that the interface of the new CV iterators are different from that of this module. This module will be removed in 0.20.\n",
      "  \"This module will be removed in 0.20.\", DeprecationWarning)\n"
     ]
    }
   ],
   "source": [
    "# Using a training set and test set is so important\n",
    "# Just as important is cross validation. Cross validation is\n",
    "# Just using several different train test splits and \n",
    "#   averaging your results!\n",
    "\n",
    "## CROSS-VALIDATION\n",
    "\n",
    "# check CV score for K=1\n",
    "from sklearn.cross_validation import cross_val_score\n",
    "knn = KNeighborsClassifier(n_neighbors=1)\n",
    "scores = cross_val_score(knn, X, y, cv=5, scoring='accuracy')"
   ]
  },
  {
   "cell_type": "code",
   "execution_count": 46,
   "metadata": {},
   "outputs": [
    {
     "data": {
      "text/plain": [
       "array([ 0.97830018,  0.97739602,  0.95567616,  0.92986425,  0.90361991])"
      ]
     },
     "execution_count": 46,
     "metadata": {},
     "output_type": "execute_result"
    }
   ],
   "source": [
    "scores              # It ran a KNN 5 times!\n",
    "# We are looking at the accuracy for each of the 5 splits"
   ]
  },
  {
   "cell_type": "code",
   "execution_count": 47,
   "metadata": {},
   "outputs": [
    {
     "data": {
      "text/plain": [
       "0.94897130601179247"
      ]
     },
     "execution_count": 47,
     "metadata": {},
     "output_type": "execute_result"
    }
   ],
   "source": [
    "np.mean(scores)     # Average them together"
   ]
  },
  {
   "cell_type": "code",
   "execution_count": 48,
   "metadata": {},
   "outputs": [
    {
     "data": {
      "text/plain": [
       "0.93676466704261474"
      ]
     },
     "execution_count": 48,
     "metadata": {},
     "output_type": "execute_result"
    }
   ],
   "source": [
    "# check CV score for K=5\n",
    "knn = KNeighborsClassifier(n_neighbors=5)\n",
    "scores = cross_val_score(knn, X, y, cv=5, scoring='accuracy')\n",
    "scores\n",
    "np.mean(scores)"
   ]
  },
  {
   "cell_type": "code",
   "execution_count": 49,
   "metadata": {},
   "outputs": [
    {
     "data": {
      "text/plain": [
       "[0.94897130601179247,\n",
       " 0.93739406002472647,\n",
       " 0.94427082399232076,\n",
       " 0.93377918277585992,\n",
       " 0.93676466704261474,\n",
       " 0.9338693533270167,\n",
       " 0.93468469199123461,\n",
       " 0.93115765339190282,\n",
       " 0.93396111943460824,\n",
       " 0.93242392619216619,\n",
       " 0.93124872404798165,\n",
       " 0.92744798264530215,\n",
       " 0.93025288066974632,\n",
       " 0.92717763501062189,\n",
       " 0.92591128038600279,\n",
       " 0.92337898025854359,\n",
       " 0.92636495565647281,\n",
       " 0.92374244430623009,\n",
       " 0.92509901019064067,\n",
       " 0.92365166009090838,\n",
       " 0.92229443953763535,\n",
       " 0.92120846657593292,\n",
       " 0.92247547579539879,\n",
       " 0.92066535743256384,\n",
       " 0.92319990763728887,\n",
       " 0.92057547328515654,\n",
       " 0.92157168485448904,\n",
       " 0.91885761201305594,\n",
       " 0.92066748490282335]"
      ]
     },
     "execution_count": 49,
     "metadata": {},
     "output_type": "execute_result"
    }
   ],
   "source": [
    "# search for an optimal value of K, WARING, SLOWW\n",
    "\n",
    "# As this is running, How many times is a KNN being fit and run?\n",
    "# HINT: 30 values for K, 5 times cross validated each time...\n",
    "k_range = range(1, 30)\n",
    "cross_validated_scores = []\n",
    "for k in k_range:\n",
    "    knn = KNeighborsClassifier(n_neighbors=k)\n",
    "    cross_validated_scores.append(np.mean(cross_val_score(knn, X, y, cv=5, scoring='accuracy')))\n",
    "cross_validated_scores"
   ]
  },
  {
   "cell_type": "code",
   "execution_count": null,
   "metadata": {},
   "outputs": [
    {
     "data": {
      "text/plain": [
       "<matplotlib.legend.Legend at 0x113f626d0>"
      ]
     },
     "execution_count": 50,
     "metadata": {},
     "output_type": "execute_result"
    },
    {
     "data": {
      "image/png": "[encoded data removed]",
      "text/plain": [
       "<matplotlib.figure.Figure at 0x10c9b3550>"
      ]
     },
     "metadata": {},
     "output_type": "display_data"
    }
   ],
   "source": [
    "# plot the K values (x-axis) versus the 5-fold CV score (y-axis) and the previous scores validated incorrectly\n",
    "plt.figure()\n",
    "k_range = range(1, 30)\n",
    "plt.plot(k_range, accuracy_scores, label='training error')\n",
    "plt.plot(k_range, cross_validated_scores, label='cross validated error')\n",
    "plt.legend()"
   ]
  },
  {
   "cell_type": "code",
   "execution_count": null,
   "metadata": {},
   "outputs": [],
   "source": [
    "# automatic grid search for an optimal value of K\n",
    "from sklearn.model_selection import GridSearchCV\n",
    "knn = KNeighborsClassifier()\n",
    "k_range = range(1, 30)\n",
    "param_grid = dict(n_neighbors=k_range)\n",
    "grid = GridSearchCV(knn, param_grid, cv=5, scoring='accuracy')\n",
    "grid.fit(X, y)"
   ]
  },
  {
   "cell_type": "code",
   "execution_count": null,
   "metadata": {
    "collapsed": true
   },
   "outputs": [],
   "source": [
    "# this will check K=1, K=2, all the way up to 30,\n",
    "# and then do cross validation on each one!\n",
    "# thats 30 * 5 = 150 fits and scoring!"
   ]
  },
  {
   "cell_type": "code",
   "execution_count": null,
   "metadata": {},
   "outputs": [],
   "source": [
    "# check the results of the grid search\n",
    "grid.grid_scores_"
   ]
  },
  {
   "cell_type": "code",
   "execution_count": null,
   "metadata": {},
   "outputs": [],
   "source": [
    "grid_mean_scores = [result[1] for result in grid.grid_scores_]"
   ]
  },
  {
   "cell_type": "code",
   "execution_count": null,
   "metadata": {},
   "outputs": [],
   "source": [
    "# plot the results\n",
    "plt.figure()\n",
    "plt.plot(k_range, grid_mean_scores)"
   ]
  },
  {
   "cell_type": "code",
   "execution_count": null,
   "metadata": {},
   "outputs": [],
   "source": [
    "grid.best_score_     # shows us the best score"
   ]
  },
  {
   "cell_type": "code",
   "execution_count": null,
   "metadata": {},
   "outputs": [],
   "source": [
    "grid.best_params_    # shows us the optimal parameters"
   ]
  },
  {
   "cell_type": "code",
   "execution_count": null,
   "metadata": {},
   "outputs": [],
   "source": [
    "grid.best_estimator_ # this is the actual model"
   ]
  },
  {
   "cell_type": "code",
   "execution_count": null,
   "metadata": {
    "collapsed": true
   },
   "outputs": [],
   "source": [
    "# Looks like even when calculating the model perfromance correctly, using 1 neighbor is still the best!\n",
    "# This implies that this problem can simply be solved by comparing websites to websites seen in the past"
   ]
  },
  {
   "cell_type": "code",
   "execution_count": null,
   "metadata": {
    "collapsed": true
   },
   "outputs": [],
   "source": []
  },
  {
   "cell_type": "code",
   "execution_count": null,
   "metadata": {
    "collapsed": true
   },
   "outputs": [],
   "source": []
  },
  {
   "cell_type": "markdown",
   "metadata": {
    "collapsed": true
   },
   "source": [
    "## Linear Models\n"
   ]
  },
  {
   "cell_type": "code",
   "execution_count": null,
   "metadata": {
    "collapsed": true
   },
   "outputs": [],
   "source": []
  },
  {
   "cell_type": "markdown",
   "metadata": {
    "collapsed": true
   },
   "source": [
    "Simple linear regression is an approach for predicting a **continuous response** using a **single feature**. It takes the following form:\n",
    "\n",
    "$y = \\beta_0 + \\beta_1x$\n",
    "\n",
    "- $y$ is the response\n",
    "- $x$ is the feature\n",
    "- $\\beta_0$ is the intercept\n",
    "- $\\beta_1$ is the coefficient for x\n",
    "\n",
    "$\\beta_0$ and $\\beta_1$ are called the **model coefficients**:\n",
    "\n",
    "- We must \"learn\" the values of these coefficients to create our model.\n",
    "- And once we've learned these coefficients, we can use the model to predict y.\n",
    "\n",
    "## Estimating (\"learning\") model coefficients\n",
    "\n",
    "- Coefficients are estimated during the model fitting process using the **least squares criterion**.\n",
    "- We are find the line (mathematically) which minimizes the **sum of squared residuals** (or \"sum of squared errors\").\n",
    "\n",
    "\n",
    "![Estimating coefficients](images/linear_regression.png)\n",
    "\n",
    "\n",
    "In this diagram:\n",
    "\n",
    "- The black dots are the **observed values** of x and y.\n",
    "- The blue line is our **least squares line**.\n",
    "- The red lines are the **residuals**, which are the distances between the observed values and the least squares line.\n",
    "\n",
    "![Slope-intercept](images/slope_intercept.png)\n",
    "\n",
    "How do the model coefficients relate to the least squares line?\n",
    "\n",
    "- $\\beta_0$ is the **intercept** (the value of $y$ when $x$=0)\n",
    "- $\\beta_1$ is the **slope** (the change in $y$ divided by change in $x$)\n",
    "\n",
    "\n",
    "Linear Regression is highly **parametric**, meaning that is relies heavily ont he underlying shape of the data. If the data fall into a line, then lienar regression will do well. If the data does not fall in line (get it?) linear regression is likely to fail."
   ]
  },
  {
   "cell_type": "code",
   "execution_count": null,
   "metadata": {
    "collapsed": true
   },
   "outputs": [],
   "source": []
  },
  {
   "cell_type": "code",
   "execution_count": null,
   "metadata": {
    "collapsed": true
   },
   "outputs": [],
   "source": []
  },
  {
   "cell_type": "code",
   "execution_count": null,
   "metadata": {
    "collapsed": true
   },
   "outputs": [],
   "source": []
  },
  {
   "cell_type": "markdown",
   "metadata": {},
   "source": [
    "# Logistic Regression"
   ]
  },
  {
   "cell_type": "markdown",
   "metadata": {},
   "source": [
    "## Probability, odds, e, log, log-odds\n",
    "\n",
    "$$probability = \\frac {one\\ outcome} {all\\ outcomes}$$\n",
    "\n",
    "$$odds = \\frac {one\\ outcome} {all\\ other\\ outcomes}$$\n",
    "\n",
    "Examples:\n",
    "\n",
    "- Dice roll of 1: probability = 1/6, odds = 1/5\n",
    "- Even dice roll: probability = 3/6, odds = 3/3 = 1\n",
    "- Dice roll less than 5: probability = 4/6, odds = 4/2 = 2\n",
    "\n",
    "$$odds = \\frac {probability} {1 - probability}$$"
   ]
  },
  {
   "cell_type": "code",
   "execution_count": null,
   "metadata": {},
   "outputs": [],
   "source": [
    "# create a table of probability versus odds\n",
    "table = pd.DataFrame({'probability':[0.1, 0.2, 0.25, 0.5, 0.6, 0.8, 0.9]})\n",
    "table['odds'] = table.probability/(1 - table.probability)\n",
    "table"
   ]
  },
  {
   "cell_type": "markdown",
   "metadata": {},
   "source": [
    "What is **e**? It is the base rate of growth shared by all continually growing processes:"
   ]
  },
  {
   "cell_type": "code",
   "execution_count": null,
   "metadata": {},
   "outputs": [],
   "source": [
    "# exponential function: e^1\n",
    "e = np.exp(1)\n",
    "e"
   ]
  },
  {
   "cell_type": "markdown",
   "metadata": {},
   "source": [
    "What is a **(natural) log**? It gives you the time needed to reach a certain level of growth:"
   ]
  },
  {
   "cell_type": "code",
   "execution_count": null,
   "metadata": {},
   "outputs": [],
   "source": [
    "# time needed to grow 1 unit to 2.718 units\n",
    "np.log(e)"
   ]
  },
  {
   "cell_type": "markdown",
   "metadata": {},
   "source": [
    "It is also the **inverse** of the exponential function:"
   ]
  },
  {
   "cell_type": "code",
   "execution_count": null,
   "metadata": {},
   "outputs": [],
   "source": [
    "np.log(np.exp(5))"
   ]
  },
  {
   "cell_type": "code",
   "execution_count": null,
   "metadata": {},
   "outputs": [],
   "source": [
    "# add log-odds to the table\n",
    "table['logodds'] = np.log(table.odds)\n",
    "table"
   ]
  },
  {
   "cell_type": "markdown",
   "metadata": {},
   "source": [
    "## What is Logistic Regression?"
   ]
  },
  {
   "cell_type": "markdown",
   "metadata": {},
   "source": [
    "**Linear regression:** continuous response is modeled as a linear combination of the features:\n",
    "\n",
    "$$y = \\beta_0 + \\beta_1x$$\n",
    "\n",
    "**Logistic regression:** log-odds of a categorical response being \"true\" (1) is modeled as a linear combination of the features:\n",
    "\n",
    "$$\\log \\left({p\\over 1-p}\\right) = \\beta_0 + \\beta_1x$$\n",
    "\n",
    "This is called the **logit function**.\n",
    "\n",
    "Probability is sometimes written as pi:\n",
    "\n",
    "$$\\log \\left({\\pi\\over 1-\\pi}\\right) = \\beta_0 + \\beta_1x$$\n",
    "\n",
    "The equation can be rearranged into the **logistic function**:\n",
    "\n",
    "$$\\pi = \\frac{e^{\\beta_0 + \\beta_1x}} {1 + e^{\\beta_0 + \\beta_1x}}$$"
   ]
  },
  {
   "cell_type": "markdown",
   "metadata": {},
   "source": [
    "In other words:\n",
    "\n",
    "- Logistic regression outputs the **probabilities of a specific class**\n",
    "- Those probabilities can be converted into **class predictions**\n",
    "\n",
    "The **logistic function** has some nice properties:\n",
    "\n",
    "- Takes on an \"s\" shape\n",
    "- Output is bounded by 0 and 1\n",
    "\n",
    "Notes:\n",
    "\n",
    "- **Multinomial logistic regression** is used when there are more than 2 classes.\n",
    "- Coefficients are estimated using **maximum likelihood estimation**, meaning that we choose parameters that maximize the likelihood of the observed data."
   ]
  },
  {
   "cell_type": "markdown",
   "metadata": {},
   "source": [
    "![](images/logistic_betas.png)"
   ]
  },
  {
   "cell_type": "markdown",
   "metadata": {},
   "source": [
    "Changing the $\\beta_0$ value shifts the curve **horizontally**, whereas changing the $\\beta_1$ value changes the **slope** of the curve."
   ]
  },
  {
   "cell_type": "markdown",
   "metadata": {},
   "source": [
    "## Comparing Logistic Regression with Other Models\n",
    "\n",
    "Advantages of logistic regression:\n",
    "\n",
    "- Highly interpretable (if you remember how)\n",
    "- Model training and prediction are fast\n",
    "- No tuning is required (excluding regularization)\n",
    "- Features don't need scaling\n",
    "- Can perform well with a small number of observations\n",
    "- Outputs well-calibrated predicted probabilities\n",
    "\n",
    "Disadvantages of logistic regression:\n",
    "\n",
    "- Presumes a linear relationship between the features and the log-odds of the response\n",
    "- Performance is (generally) not competitive with the best supervised learning methods\n",
    "- Sensitive to irrelevant features\n",
    "- Can't automatically learn feature interactions"
   ]
  },
  {
   "cell_type": "code",
   "execution_count": null,
   "metadata": {
    "collapsed": true
   },
   "outputs": [],
   "source": []
  },
  {
   "cell_type": "code",
   "execution_count": null,
   "metadata": {},
   "outputs": [],
   "source": [
    "# NEW DATA\n",
    "\n",
    "# Logistic Regression is a high bias low variance model that is parametric\n",
    "\n",
    "from sklearn.datasets import make_circles\n",
    "from sklearn.cross_validation import cross_val_score\n",
    "circles_X, circles_y = make_circles(n_samples=1000, random_state=123, noise=0.1, factor=0.2)\n",
    "plt.scatter(circles_X[:,0], circles_X[:,1])"
   ]
  },
  {
   "cell_type": "code",
   "execution_count": null,
   "metadata": {},
   "outputs": [],
   "source": [
    "# It has a linear decision boundary, IE the shape is draws between classes are lines!\n",
    "\n",
    "from sklearn.linear_model import LogisticRegression\n",
    "from matplotlib.colors import ListedColormap\n",
    "import numpy as np\n",
    "\n",
    "h = .02  # step size in the mesh\n",
    "\n",
    "# Create color maps\n",
    "cmap_light = ListedColormap(['#FFAAAA', '#AAFFAA', '#AAAAFF'])\n",
    "cmap_bold = ListedColormap(['#FF0000', '#00FF00', '#0000FF'])\n",
    "\n",
    "# we create an instance of Neighbours Classifier and fit the data.\n",
    "logreg = LogisticRegression()\n",
    "logreg.fit(circles_X, circles_y)\n",
    "\n",
    "# Plot the decision boundary. For that, we will assign a color to each\n",
    "# point in the mesh [x_min, m_max]x[y_min, y_max].\n",
    "x_min, x_max = circles_X[:, 0].min() - 1, circles_X[:, 0].max() + 1\n",
    "y_min, y_max = circles_X[:, 1].min() - 1, circles_X[:, 1].max() + 1\n",
    "xx, yy = np.meshgrid(np.arange(x_min, x_max, h),\n",
    "                     np.arange(y_min, y_max, h))\n",
    "Z = logreg.predict(np.c_[xx.ravel(), yy.ravel()])\n",
    "\n",
    "# Put the result into a color plot\n",
    "Z = Z.reshape(xx.shape)\n",
    "plt.figure()\n",
    "plt.pcolormesh(xx, yy, Z, cmap=cmap_light)\n",
    "\n",
    "# Plot also the training points\n",
    "plt.scatter(circles_X[:, 0], circles_X[:, 1], c=circles_y, cmap=cmap_bold)\n",
    "plt.xlim(xx.min(), xx.max())\n",
    "plt.ylim(yy.min(), yy.max())\n",
    "plt.title(\"Circle classification Logistic Regression\")\n",
    "\n",
    "plt.show()"
   ]
  },
  {
   "cell_type": "code",
   "execution_count": null,
   "metadata": {},
   "outputs": [],
   "source": [
    "logreg = LogisticRegression()\n",
    "cross_val_score(logreg, circles_X, circles_y, cv=5, scoring='accuracy').mean()\n",
    "# lame"
   ]
  },
  {
   "cell_type": "code",
   "execution_count": null,
   "metadata": {},
   "outputs": [],
   "source": [
    "from sklearn.neighbors import KNeighborsClassifier  # compare to knn\n",
    "knn = KNeighborsClassifier(n_neighbors=7)\n",
    "cross_val_score(knn, circles_X, circles_y, cv=5, scoring='accuracy').mean()\n",
    "# not as lame, remember?"
   ]
  },
  {
   "cell_type": "code",
   "execution_count": null,
   "metadata": {
    "collapsed": true
   },
   "outputs": [],
   "source": []
  },
  {
   "cell_type": "code",
   "execution_count": null,
   "metadata": {},
   "outputs": [],
   "source": [
    "from sklearn import datasets\n",
    "\n",
    "# new dataset, handwritten digits!\n",
    "digits = datasets.load_digits()\n",
    "digits.data"
   ]
  },
  {
   "cell_type": "code",
   "execution_count": null,
   "metadata": {},
   "outputs": [],
   "source": [
    "plt.imshow(digits.images[-5], cmap=plt.cm.gray_r, interpolation='nearest')\n",
    "# the number 9\n",
    "\n",
    "\n",
    "digits.target[-5]"
   ]
  },
  {
   "cell_type": "code",
   "execution_count": null,
   "metadata": {},
   "outputs": [],
   "source": [
    "digits.data.shape\n",
    "# 1,797 observations, 64 features (8 x 8 image)"
   ]
  },
  {
   "cell_type": "code",
   "execution_count": null,
   "metadata": {
    "collapsed": true
   },
   "outputs": [],
   "source": [
    "digits_X, digits_y = digits.data, digits.target"
   ]
  },
  {
   "cell_type": "code",
   "execution_count": null,
   "metadata": {},
   "outputs": [],
   "source": [
    "%%time\n",
    "logreg = LogisticRegression()\n",
    "print cross_val_score(logreg, digits_X, digits_y, cv=5, scoring='accuracy').mean()"
   ]
  },
  {
   "cell_type": "code",
   "execution_count": null,
   "metadata": {
    "collapsed": true
   },
   "outputs": [],
   "source": []
  },
  {
   "cell_type": "code",
   "execution_count": null,
   "metadata": {},
   "outputs": [],
   "source": [
    "%%time\n",
    "# compare to KNN\n",
    "knn = KNeighborsClassifier(n_neighbors=5)\n",
    "print cross_val_score(knn, digits_X, digits_y, cv=5, scoring='accuracy').mean()"
   ]
  },
  {
   "cell_type": "code",
   "execution_count": null,
   "metadata": {
    "collapsed": true
   },
   "outputs": [],
   "source": [
    "# Thought Exercise, why would KNN potentially be a better model than logistic regression for handwriting?"
   ]
  },
  {
   "cell_type": "code",
   "execution_count": null,
   "metadata": {
    "collapsed": true
   },
   "outputs": [],
   "source": []
  },
  {
   "cell_type": "code",
   "execution_count": null,
   "metadata": {
    "collapsed": true
   },
   "outputs": [],
   "source": [
    "# OK so wait, when should we use Logistic Regression?"
   ]
  },
  {
   "cell_type": "code",
   "execution_count": null,
   "metadata": {
    "collapsed": true
   },
   "outputs": [],
   "source": []
  },
  {
   "cell_type": "code",
   "execution_count": null,
   "metadata": {
    "collapsed": true
   },
   "outputs": [],
   "source": []
  },
  {
   "cell_type": "code",
   "execution_count": null,
   "metadata": {},
   "outputs": [],
   "source": [
    "# Using dataset of a 1978 survey conducted to measure likliehood of women to perform extramarital affairs\n",
    "# http://statsmodels.sourceforge.net/stable/datasets/generated/fair.html\n",
    "\n",
    "import statsmodels.api as sm\n",
    "affairs_df = sm.datasets.fair.load_pandas().data"
   ]
  },
  {
   "cell_type": "code",
   "execution_count": null,
   "metadata": {},
   "outputs": [],
   "source": [
    "affairs_df.head()"
   ]
  },
  {
   "cell_type": "code",
   "execution_count": null,
   "metadata": {
    "collapsed": true
   },
   "outputs": [],
   "source": [
    "affairs_df['affair_binary'] = (affairs_df['affairs'] > 0)"
   ]
  },
  {
   "cell_type": "code",
   "execution_count": null,
   "metadata": {},
   "outputs": [],
   "source": [
    "sns.heatmap(affairs_df.corr())"
   ]
  },
  {
   "cell_type": "code",
   "execution_count": null,
   "metadata": {},
   "outputs": [],
   "source": [
    "affairs_df.corr()\n",
    "# Obviously affairs will correlate to affair_binary but what else?\n",
    "\n",
    "\n",
    "\n",
    "\n",
    "\n",
    "\n",
    "# It seems children, yrs_married, rate_married, and age all correlate to affair_binary\n",
    "# Remember correlations are NOT the single way to identify which features to use\n",
    "# Correlations only give us a number determining how linearlly correlated the variables are\n",
    "# We may find another variable that affects affairs by evaluating the coefficients of our LR"
   ]
  },
  {
   "cell_type": "code",
   "execution_count": null,
   "metadata": {
    "collapsed": true
   },
   "outputs": [],
   "source": [
    "affairs_X = affairs_df.drop(['affairs', 'affair_binary'], axis=1)\n",
    "affairs_y = affairs_df['affair_binary']"
   ]
  },
  {
   "cell_type": "code",
   "execution_count": null,
   "metadata": {},
   "outputs": [],
   "source": [
    "model = LogisticRegression()\n",
    "from sklearn.cross_validation import cross_val_score\n",
    "# check the accuracy on the training set\n",
    "scores = cross_val_score(model, affairs_X, affairs_y, cv=10)\n",
    "print scores\n",
    "print scores.mean()\n",
    "\n",
    "# Looks pretty good"
   ]
  },
  {
   "cell_type": "code",
   "execution_count": null,
   "metadata": {},
   "outputs": [],
   "source": [
    "# Explore individual features that make the biggest impact\n",
    "# religious, yrs_married, and occupation. But one of these variables doesn't quite make sense right?\n",
    "pd.DataFrame(zip(affairs_X.columns, np.transpose(model.coef_)))"
   ]
  },
  {
   "cell_type": "code",
   "execution_count": null,
   "metadata": {
    "collapsed": true
   },
   "outputs": [],
   "source": [
    "# Dummy Variables:\n",
    "\n",
    "# Encoding qualitiative (nominal) data using separate columns (see slides for linear regression for more)"
   ]
  },
  {
   "cell_type": "markdown",
   "metadata": {},
   "source": [
    "<img src=\"images/dummy.png\">"
   ]
  },
  {
   "cell_type": "code",
   "execution_count": null,
   "metadata": {
    "collapsed": true
   },
   "outputs": [],
   "source": [
    "occuptation_dummies = pd.get_dummies(affairs_df['occupation'], prefix='occ_').iloc[:, 1:]\n",
    "\n",
    "# concatenate the dummy variable columns onto the original DataFrame (axis=0 means rows, axis=1 means columns)\n",
    "affairs_df = pd.concat([affairs_df, occuptation_dummies], axis=1)\n",
    "affairs_df.head()\n"
   ]
  },
  {
   "cell_type": "code",
   "execution_count": null,
   "metadata": {
    "collapsed": true
   },
   "outputs": [],
   "source": [
    "occuptation_dummies = pd.get_dummies(affairs_df['occupation_husb'], prefix='occ_husb_').iloc[:, 1:]\n",
    "\n",
    "# concatenate the dummy variable columns onto the original DataFrame (axis=0 means rows, axis=1 means columns)\n",
    "affairs_df = pd.concat([affairs_df, occuptation_dummies], axis=1)\n",
    "affairs_df.head()"
   ]
  },
  {
   "cell_type": "code",
   "execution_count": null,
   "metadata": {
    "collapsed": true
   },
   "outputs": [],
   "source": [
    "# remove appropiate columns for feature set\n",
    "affairs_X = affairs_df.drop(['affairs', 'affair_binary', 'occupation', 'occupation_husb'], axis=1)\n",
    "affairs_y = affairs_df['affair_binary']"
   ]
  },
  {
   "cell_type": "code",
   "execution_count": null,
   "metadata": {
    "collapsed": true
   },
   "outputs": [],
   "source": [
    "model = LogisticRegression()\n",
    "model = model.fit(affairs_X, affairs_y)\n",
    "\n",
    "# check the accuracy on the training set\n",
    "model.score(affairs_X, affairs_y)"
   ]
  },
  {
   "cell_type": "code",
   "execution_count": null,
   "metadata": {
    "collapsed": true
   },
   "outputs": [],
   "source": [
    "pd.DataFrame(zip(affairs_X.columns, np.transpose(model.coef_)), columns = ['features', 'coef'])"
   ]
  },
  {
   "cell_type": "code",
   "execution_count": null,
   "metadata": {
    "collapsed": true
   },
   "outputs": [],
   "source": [
    "# compare KNN to LR"
   ]
  },
  {
   "cell_type": "code",
   "execution_count": null,
   "metadata": {
    "collapsed": true
   },
   "outputs": [],
   "source": [
    "knn = KNeighborsClassifier(n_neighbors=7)\n",
    "cross_val_score(knn, affairs_X, affairs_y, cv=5, scoring='accuracy').mean()"
   ]
  },
  {
   "cell_type": "code",
   "execution_count": null,
   "metadata": {
    "collapsed": true
   },
   "outputs": [],
   "source": [
    "logreg = LogisticRegression()\n",
    "cross_val_score(logreg, affairs_X, affairs_y, cv=5, scoring='accuracy').mean()"
   ]
  },
  {
   "cell_type": "code",
   "execution_count": null,
   "metadata": {
    "collapsed": true
   },
   "outputs": [],
   "source": []
  },
  {
   "cell_type": "code",
   "execution_count": null,
   "metadata": {
    "collapsed": true
   },
   "outputs": [],
   "source": []
  },
  {
   "cell_type": "code",
   "execution_count": null,
   "metadata": {
    "collapsed": true
   },
   "outputs": [],
   "source": []
  },
  {
   "cell_type": "code",
   "execution_count": null,
   "metadata": {
    "collapsed": true
   },
   "outputs": [],
   "source": []
  },
  {
   "cell_type": "code",
   "execution_count": null,
   "metadata": {
    "collapsed": true
   },
   "outputs": [],
   "source": [
    "# When we are investigating individual correlations between features and categorical responses\n",
    "# Logistic regression has a good shot :)\n",
    "\n",
    "# KNN relies on the entire n-space to make predictions while LR uses the model parameters to focus\n",
    "# on one or more particular features\n",
    "\n",
    "# LR has concept of \"importance\" of features"
   ]
  },
  {
   "cell_type": "code",
   "execution_count": null,
   "metadata": {
    "collapsed": true
   },
   "outputs": [],
   "source": []
  },
  {
   "cell_type": "code",
   "execution_count": null,
   "metadata": {
    "collapsed": true
   },
   "outputs": [],
   "source": []
  },
  {
   "cell_type": "code",
   "execution_count": null,
   "metadata": {
    "collapsed": true
   },
   "outputs": [],
   "source": [
    "# Final Thought Experiment\n",
    "\n",
    "# Why might KNN (a kind of look alike model) not perform well here?"
   ]
  },
  {
   "cell_type": "code",
   "execution_count": null,
   "metadata": {
    "collapsed": true
   },
   "outputs": [],
   "source": []
  },
  {
   "cell_type": "code",
   "execution_count": null,
   "metadata": {
    "collapsed": true
   },
   "outputs": [],
   "source": []
  },
  {
   "cell_type": "code",
   "execution_count": null,
   "metadata": {
    "collapsed": true
   },
   "outputs": [],
   "source": []
  }
 ],
 "metadata": {
  "anaconda-cloud": {},
  "kernelspec": {
   "display_name": "Python 2",
   "language": "python",
   "name": "python2"
  },
  "language_info": {
   "codemirror_mode": {
    "name": "ipython",
    "version": 2
   },
   "file_extension": ".py",
   "mimetype": "text/x-python",
   "name": "python",
   "nbconvert_exporter": "python",
   "pygments_lexer": "ipython2",
   "version": "2.7.10"
  },
  "name": "_merged"
 },
 "nbformat": 4,
 "nbformat_minor": 1
}
